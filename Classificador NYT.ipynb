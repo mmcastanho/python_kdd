{
 "cells": [
  {
   "cell_type": "code",
   "execution_count": 1,
   "metadata": {
    "collapsed": true
   },
   "outputs": [],
   "source": [
    "import pandas as pd\n",
    "import sklearn\n",
    "import numpy as np\n",
    "import matplotlib.pyplot as plt\n",
    "import seaborn as sns\n",
    "%matplotlib inline\n",
    "from wordcloud import WordCloud,STOPWORDS"
   ]
  },
  {
   "cell_type": "code",
   "execution_count": 2,
   "metadata": {
    "collapsed": true
   },
   "outputs": [],
   "source": [
    "nyt = pd.read_csv('nyt_ftpg_1996_2006.csv', encoding='ISO-8859-1')"
   ]
  },
  {
   "cell_type": "code",
   "execution_count": 3,
   "metadata": {},
   "outputs": [
    {
     "name": "stdout",
     "output_type": "stream",
     "text": [
      "<class 'pandas.core.frame.DataFrame'>\n",
      "RangeIndex: 31034 entries, 0 to 31033\n",
      "Data columns (total 18 columns):\n",
      "Article_ID                31034 non-null int64\n",
      "Date                      31034 non-null object\n",
      "Article_Sequence          31034 non-null object\n",
      "Title                     31034 non-null object\n",
      "Summary                   31034 non-null object\n",
      "Topic_6digit              31034 non-null int64\n",
      "Topic_4digit              31034 non-null int64\n",
      "Topic_2digit              31034 non-null int64\n",
      "War on Terror             31034 non-null int64\n",
      "Katrina                   31034 non-null int64\n",
      "Israel/Palestine          31034 non-null int64\n",
      "Immigration               31034 non-null int64\n",
      "Presidential Elections    31034 non-null int64\n",
      "Clinton Impeachment       31034 non-null int64\n",
      "Enron                     31034 non-null int64\n",
      "Darfur                    31034 non-null int64\n",
      "Race/Ethnicity            31034 non-null int64\n",
      "Schiavo                   31034 non-null int64\n",
      "dtypes: int64(14), object(4)\n",
      "memory usage: 4.3+ MB\n"
     ]
    }
   ],
   "source": [
    "nyt.info()"
   ]
  },
  {
   "cell_type": "code",
   "execution_count": 4,
   "metadata": {},
   "outputs": [
    {
     "data": {
      "text/html": [
       "<div>\n",
       "<style>\n",
       "    .dataframe thead tr:only-child th {\n",
       "        text-align: right;\n",
       "    }\n",
       "\n",
       "    .dataframe thead th {\n",
       "        text-align: left;\n",
       "    }\n",
       "\n",
       "    .dataframe tbody tr th {\n",
       "        vertical-align: top;\n",
       "    }\n",
       "</style>\n",
       "<table border=\"1\" class=\"dataframe\">\n",
       "  <thead>\n",
       "    <tr style=\"text-align: right;\">\n",
       "      <th></th>\n",
       "      <th>Article_ID</th>\n",
       "      <th>Date</th>\n",
       "      <th>Article_Sequence</th>\n",
       "      <th>Title</th>\n",
       "      <th>Summary</th>\n",
       "      <th>Topic_6digit</th>\n",
       "      <th>Topic_4digit</th>\n",
       "      <th>Topic_2digit</th>\n",
       "      <th>War on Terror</th>\n",
       "      <th>Katrina</th>\n",
       "      <th>Israel/Palestine</th>\n",
       "      <th>Immigration</th>\n",
       "      <th>Presidential Elections</th>\n",
       "      <th>Clinton Impeachment</th>\n",
       "      <th>Enron</th>\n",
       "      <th>Darfur</th>\n",
       "      <th>Race/Ethnicity</th>\n",
       "      <th>Schiavo</th>\n",
       "    </tr>\n",
       "  </thead>\n",
       "  <tbody>\n",
       "    <tr>\n",
       "      <th>0</th>\n",
       "      <td>1</td>\n",
       "      <td>1/1/1996</td>\n",
       "      <td>a</td>\n",
       "      <td>Nation's Smaller Jails Struggle To Cope With S...</td>\n",
       "      <td>Jails overwhelmed with hardened criminals</td>\n",
       "      <td>120500</td>\n",
       "      <td>1205</td>\n",
       "      <td>12</td>\n",
       "      <td>0</td>\n",
       "      <td>0</td>\n",
       "      <td>0</td>\n",
       "      <td>0</td>\n",
       "      <td>0</td>\n",
       "      <td>0</td>\n",
       "      <td>0</td>\n",
       "      <td>0</td>\n",
       "      <td>0</td>\n",
       "      <td>0</td>\n",
       "    </tr>\n",
       "    <tr>\n",
       "      <th>1</th>\n",
       "      <td>2</td>\n",
       "      <td>1/1/1996</td>\n",
       "      <td>b</td>\n",
       "      <td>Dancing (and Kissing) In the New Year</td>\n",
       "      <td>new years activities</td>\n",
       "      <td>280000</td>\n",
       "      <td>2800</td>\n",
       "      <td>28</td>\n",
       "      <td>0</td>\n",
       "      <td>0</td>\n",
       "      <td>0</td>\n",
       "      <td>0</td>\n",
       "      <td>0</td>\n",
       "      <td>0</td>\n",
       "      <td>0</td>\n",
       "      <td>0</td>\n",
       "      <td>0</td>\n",
       "      <td>0</td>\n",
       "    </tr>\n",
       "    <tr>\n",
       "      <th>2</th>\n",
       "      <td>3</td>\n",
       "      <td>1/1/1996</td>\n",
       "      <td>c</td>\n",
       "      <td>Forbes's Silver Bullet for the Nation's Malaise</td>\n",
       "      <td>Steve Forbes running for President</td>\n",
       "      <td>201201</td>\n",
       "      <td>2012</td>\n",
       "      <td>20</td>\n",
       "      <td>0</td>\n",
       "      <td>0</td>\n",
       "      <td>0</td>\n",
       "      <td>0</td>\n",
       "      <td>1</td>\n",
       "      <td>0</td>\n",
       "      <td>0</td>\n",
       "      <td>0</td>\n",
       "      <td>0</td>\n",
       "      <td>0</td>\n",
       "    </tr>\n",
       "    <tr>\n",
       "      <th>3</th>\n",
       "      <td>4</td>\n",
       "      <td>1/1/1996</td>\n",
       "      <td>d</td>\n",
       "      <td>Up at Last, Bridge to Bosnia Is Swaying Gatewa...</td>\n",
       "      <td>U.S. military constructs bridge to help their ...</td>\n",
       "      <td>160200</td>\n",
       "      <td>1602</td>\n",
       "      <td>16</td>\n",
       "      <td>0</td>\n",
       "      <td>0</td>\n",
       "      <td>0</td>\n",
       "      <td>0</td>\n",
       "      <td>0</td>\n",
       "      <td>0</td>\n",
       "      <td>0</td>\n",
       "      <td>0</td>\n",
       "      <td>0</td>\n",
       "      <td>0</td>\n",
       "    </tr>\n",
       "    <tr>\n",
       "      <th>4</th>\n",
       "      <td>5</td>\n",
       "      <td>1/1/1996</td>\n",
       "      <td>e</td>\n",
       "      <td>2 SIDES IN SENATE DISAGREE ON PLAN TO END FURL...</td>\n",
       "      <td>Democrats and Republicans can't agree on plan ...</td>\n",
       "      <td>201206</td>\n",
       "      <td>2012</td>\n",
       "      <td>20</td>\n",
       "      <td>0</td>\n",
       "      <td>0</td>\n",
       "      <td>0</td>\n",
       "      <td>0</td>\n",
       "      <td>0</td>\n",
       "      <td>0</td>\n",
       "      <td>0</td>\n",
       "      <td>0</td>\n",
       "      <td>0</td>\n",
       "      <td>0</td>\n",
       "    </tr>\n",
       "  </tbody>\n",
       "</table>\n",
       "</div>"
      ],
      "text/plain": [
       "   Article_ID      Date Article_Sequence  \\\n",
       "0           1  1/1/1996                a   \n",
       "1           2  1/1/1996                b   \n",
       "2           3  1/1/1996                c   \n",
       "3           4  1/1/1996                d   \n",
       "4           5  1/1/1996                e   \n",
       "\n",
       "                                               Title  \\\n",
       "0  Nation's Smaller Jails Struggle To Cope With S...   \n",
       "1             Dancing (and Kissing) In the New Year    \n",
       "2   Forbes's Silver Bullet for the Nation's Malaise    \n",
       "3  Up at Last, Bridge to Bosnia Is Swaying Gatewa...   \n",
       "4  2 SIDES IN SENATE DISAGREE ON PLAN TO END FURL...   \n",
       "\n",
       "                                             Summary  Topic_6digit  \\\n",
       "0          Jails overwhelmed with hardened criminals        120500   \n",
       "1                               new years activities        280000   \n",
       "2                 Steve Forbes running for President        201201   \n",
       "3  U.S. military constructs bridge to help their ...        160200   \n",
       "4  Democrats and Republicans can't agree on plan ...        201206   \n",
       "\n",
       "   Topic_4digit  Topic_2digit  War on Terror  Katrina  Israel/Palestine  \\\n",
       "0          1205            12              0        0                 0   \n",
       "1          2800            28              0        0                 0   \n",
       "2          2012            20              0        0                 0   \n",
       "3          1602            16              0        0                 0   \n",
       "4          2012            20              0        0                 0   \n",
       "\n",
       "   Immigration  Presidential Elections  Clinton Impeachment  Enron  Darfur  \\\n",
       "0            0                       0                    0      0       0   \n",
       "1            0                       0                    0      0       0   \n",
       "2            0                       1                    0      0       0   \n",
       "3            0                       0                    0      0       0   \n",
       "4            0                       0                    0      0       0   \n",
       "\n",
       "   Race/Ethnicity  Schiavo  \n",
       "0               0        0  \n",
       "1               0        0  \n",
       "2               0        0  \n",
       "3               0        0  \n",
       "4               0        0  "
      ]
     },
     "execution_count": 4,
     "metadata": {},
     "output_type": "execute_result"
    }
   ],
   "source": [
    "nyt.head()"
   ]
  },
  {
   "cell_type": "code",
   "execution_count": 5,
   "metadata": {
    "collapsed": true
   },
   "outputs": [],
   "source": [
    "from nltk.corpus import stopwords\n",
    "import string"
   ]
  },
  {
   "cell_type": "code",
   "execution_count": 6,
   "metadata": {
    "collapsed": true
   },
   "outputs": [],
   "source": [
    "title1 = nyt['Title'][0]"
   ]
  },
  {
   "cell_type": "code",
   "execution_count": 7,
   "metadata": {},
   "outputs": [
    {
     "data": {
      "text/plain": [
       "\"Nation's Smaller Jails Struggle To Cope With Surge in Inmates \""
      ]
     },
     "execution_count": 7,
     "metadata": {},
     "output_type": "execute_result"
    }
   ],
   "source": [
    "title1"
   ]
  },
  {
   "cell_type": "code",
   "execution_count": 8,
   "metadata": {
    "collapsed": true
   },
   "outputs": [],
   "source": [
    "def text_process(mess):\n",
    "    \"\"\"\n",
    "    1. remove punc\n",
    "    2. remove stop words\n",
    "    3. return list of clean text words\n",
    "    \"\"\"\n",
    "\n",
    "    nopunc = [char for char in mess if char not in string.punctuation]\n",
    "    \n",
    "    nopunc = ''.join(nopunc)\n",
    "\n",
    "    return [word for word in nopunc.split() if word.lower() not in stopwords.words('english')]"
   ]
  },
  {
   "cell_type": "code",
   "execution_count": 9,
   "metadata": {},
   "outputs": [
    {
     "data": {
      "text/plain": [
       "['Nations', 'Smaller', 'Jails', 'Struggle', 'Cope', 'Surge', 'Inmates']"
      ]
     },
     "execution_count": 9,
     "metadata": {},
     "output_type": "execute_result"
    }
   ],
   "source": [
    "text_process(title1)"
   ]
  },
  {
   "cell_type": "code",
   "execution_count": 10,
   "metadata": {
    "collapsed": true
   },
   "outputs": [],
   "source": [
    "nyt_processed = nyt[['Title','Topic_2digit']]"
   ]
  },
  {
   "cell_type": "code",
   "execution_count": 11,
   "metadata": {},
   "outputs": [
    {
     "data": {
      "text/html": [
       "<div>\n",
       "<style>\n",
       "    .dataframe thead tr:only-child th {\n",
       "        text-align: right;\n",
       "    }\n",
       "\n",
       "    .dataframe thead th {\n",
       "        text-align: left;\n",
       "    }\n",
       "\n",
       "    .dataframe tbody tr th {\n",
       "        vertical-align: top;\n",
       "    }\n",
       "</style>\n",
       "<table border=\"1\" class=\"dataframe\">\n",
       "  <thead>\n",
       "    <tr style=\"text-align: right;\">\n",
       "      <th></th>\n",
       "      <th>Title</th>\n",
       "      <th>Topic_2digit</th>\n",
       "    </tr>\n",
       "  </thead>\n",
       "  <tbody>\n",
       "    <tr>\n",
       "      <th>0</th>\n",
       "      <td>Nation's Smaller Jails Struggle To Cope With S...</td>\n",
       "      <td>12</td>\n",
       "    </tr>\n",
       "    <tr>\n",
       "      <th>1</th>\n",
       "      <td>Dancing (and Kissing) In the New Year</td>\n",
       "      <td>28</td>\n",
       "    </tr>\n",
       "    <tr>\n",
       "      <th>2</th>\n",
       "      <td>Forbes's Silver Bullet for the Nation's Malaise</td>\n",
       "      <td>20</td>\n",
       "    </tr>\n",
       "    <tr>\n",
       "      <th>3</th>\n",
       "      <td>Up at Last, Bridge to Bosnia Is Swaying Gatewa...</td>\n",
       "      <td>16</td>\n",
       "    </tr>\n",
       "    <tr>\n",
       "      <th>4</th>\n",
       "      <td>2 SIDES IN SENATE DISAGREE ON PLAN TO END FURL...</td>\n",
       "      <td>20</td>\n",
       "    </tr>\n",
       "  </tbody>\n",
       "</table>\n",
       "</div>"
      ],
      "text/plain": [
       "                                               Title  Topic_2digit\n",
       "0  Nation's Smaller Jails Struggle To Cope With S...            12\n",
       "1             Dancing (and Kissing) In the New Year             28\n",
       "2   Forbes's Silver Bullet for the Nation's Malaise             20\n",
       "3  Up at Last, Bridge to Bosnia Is Swaying Gatewa...            16\n",
       "4  2 SIDES IN SENATE DISAGREE ON PLAN TO END FURL...            20"
      ]
     },
     "execution_count": 11,
     "metadata": {},
     "output_type": "execute_result"
    }
   ],
   "source": [
    "nyt_processed.head()"
   ]
  },
  {
   "cell_type": "code",
   "execution_count": 12,
   "metadata": {},
   "outputs": [
    {
     "data": {
      "text/plain": [
       "0    [Nations, Smaller, Jails, Struggle, Cope, Surg...\n",
       "1                        [Dancing, Kissing, New, Year]\n",
       "2          [Forbess, Silver, Bullet, Nations, Malaise]\n",
       "3        [Last, Bridge, Bosnia, Swaying, Gateway, GIs]\n",
       "4    [2, SIDES, SENATE, DISAGREE, PLAN, END, FURLOU...\n",
       "Name: Title, dtype: object"
      ]
     },
     "execution_count": 12,
     "metadata": {},
     "output_type": "execute_result"
    }
   ],
   "source": [
    "nyt_processed['Title'].head().apply(text_process)"
   ]
  },
  {
   "cell_type": "code",
   "execution_count": 14,
   "metadata": {
    "collapsed": true
   },
   "outputs": [],
   "source": [
    "from sklearn.feature_extraction.text import CountVectorizer"
   ]
  },
  {
   "cell_type": "code",
   "execution_count": 15,
   "metadata": {
    "collapsed": true
   },
   "outputs": [],
   "source": [
    "bow_transformer = CountVectorizer(analyzer=text_process).fit(nyt_processed['Title'])"
   ]
  },
  {
   "cell_type": "code",
   "execution_count": 16,
   "metadata": {},
   "outputs": [
    {
     "name": "stdout",
     "output_type": "stream",
     "text": [
      "25226\n"
     ]
    }
   ],
   "source": [
    "print(len(bow_transformer.vocabulary_))"
   ]
  },
  {
   "cell_type": "code",
   "execution_count": 17,
   "metadata": {
    "collapsed": true
   },
   "outputs": [],
   "source": [
    "nyt_bow = bow_transformer.transform(nyt_processed['Title'])"
   ]
  },
  {
   "cell_type": "code",
   "execution_count": 18,
   "metadata": {},
   "outputs": [
    {
     "name": "stdout",
     "output_type": "stream",
     "text": [
      "Shape of Sparse Matrix:  (31034, 25226)\n"
     ]
    }
   ],
   "source": [
    "print('Shape of Sparse Matrix: ', nyt_bow.shape)"
   ]
  },
  {
   "cell_type": "code",
   "execution_count": 19,
   "metadata": {},
   "outputs": [
    {
     "data": {
      "text/plain": [
       "184136"
      ]
     },
     "execution_count": 19,
     "metadata": {},
     "output_type": "execute_result"
    }
   ],
   "source": [
    "nyt_bow.nnz"
   ]
  },
  {
   "cell_type": "code",
   "execution_count": 20,
   "metadata": {},
   "outputs": [
    {
     "name": "stdout",
     "output_type": "stream",
     "text": [
      "sparsity: 0.023520825370154735\n"
     ]
    }
   ],
   "source": [
    "sparsity = (100.0 * nyt_bow.nnz / (nyt_bow.shape[0] * nyt_bow.shape[1]))\n",
    "print('sparsity: {}'.format((sparsity)))"
   ]
  },
  {
   "cell_type": "code",
   "execution_count": 21,
   "metadata": {
    "collapsed": true
   },
   "outputs": [],
   "source": [
    "from sklearn.feature_extraction.text import TfidfTransformer"
   ]
  },
  {
   "cell_type": "code",
   "execution_count": 22,
   "metadata": {
    "collapsed": true
   },
   "outputs": [],
   "source": [
    "tfidf_transformer = TfidfTransformer().fit(nyt_bow)"
   ]
  },
  {
   "cell_type": "code",
   "execution_count": 23,
   "metadata": {
    "collapsed": true
   },
   "outputs": [],
   "source": [
    "nyt_tfidf = tfidf_transformer.transform(nyt_bow)"
   ]
  },
  {
   "cell_type": "code",
   "execution_count": 24,
   "metadata": {
    "collapsed": true
   },
   "outputs": [],
   "source": [
    "from sklearn.naive_bayes import MultinomialNB"
   ]
  },
  {
   "cell_type": "code",
   "execution_count": 25,
   "metadata": {
    "collapsed": true
   },
   "outputs": [],
   "source": [
    "nyt_model = MultinomialNB().fit(nyt_tfidf,nyt_processed['Topic_2digit'])"
   ]
  },
  {
   "cell_type": "code",
   "execution_count": 26,
   "metadata": {
    "collapsed": true
   },
   "outputs": [],
   "source": [
    "all_pred = nyt_model.predict(nyt_tfidf)"
   ]
  },
  {
   "cell_type": "code",
   "execution_count": 27,
   "metadata": {},
   "outputs": [
    {
     "name": "stderr",
     "output_type": "stream",
     "text": [
      "C:\\Users\\Matheus\\Anaconda3\\lib\\site-packages\\sklearn\\cross_validation.py:41: DeprecationWarning: This module was deprecated in version 0.18 in favor of the model_selection module into which all the refactored classes and functions are moved. Also note that the interface of the new CV iterators are different from that of this module. This module will be removed in 0.20.\n",
      "  \"This module will be removed in 0.20.\", DeprecationWarning)\n"
     ]
    }
   ],
   "source": [
    "from sklearn.cross_validation import train_test_split"
   ]
  },
  {
   "cell_type": "code",
   "execution_count": 28,
   "metadata": {
    "collapsed": true
   },
   "outputs": [],
   "source": [
    "nyt_train,nyt_test,topic_train,topic_test = train_test_split(nyt_processed['Title'], nyt_processed['Topic_2digit'], test_size=0.3)"
   ]
  },
  {
   "cell_type": "code",
   "execution_count": 29,
   "metadata": {
    "collapsed": true
   },
   "outputs": [],
   "source": [
    "from sklearn.pipeline import Pipeline"
   ]
  },
  {
   "cell_type": "code",
   "execution_count": 30,
   "metadata": {
    "collapsed": true
   },
   "outputs": [],
   "source": [
    "from sklearn.ensemble import RandomForestClassifier"
   ]
  },
  {
   "cell_type": "code",
   "execution_count": 31,
   "metadata": {
    "collapsed": true
   },
   "outputs": [],
   "source": [
    "pipeline = Pipeline([\n",
    "    ('bow',CountVectorizer(analyzer=text_process)),\n",
    "    ('tfidf', TfidfTransformer()),\n",
    "    ('classifier', MultinomialNB())\n",
    "])"
   ]
  },
  {
   "cell_type": "code",
   "execution_count": 32,
   "metadata": {},
   "outputs": [
    {
     "data": {
      "text/plain": [
       "Pipeline(memory=None,\n",
       "     steps=[('bow', CountVectorizer(analyzer=<function text_process at 0x000000000D542A60>,\n",
       "        binary=False, decode_error='strict', dtype=<class 'numpy.int64'>,\n",
       "        encoding='utf-8', input='content', lowercase=True, max_df=1.0,\n",
       "        max_features=None, min_df=1, ngram_range=(1, 1), preprocesso...f=False, use_idf=True)), ('classifier', MultinomialNB(alpha=1.0, class_prior=None, fit_prior=True))])"
      ]
     },
     "execution_count": 32,
     "metadata": {},
     "output_type": "execute_result"
    }
   ],
   "source": [
    "pipeline.fit(nyt_train, topic_train)"
   ]
  },
  {
   "cell_type": "code",
   "execution_count": 36,
   "metadata": {
    "collapsed": true
   },
   "outputs": [],
   "source": [
    "predictions = pipeline.predict(nyt_test)"
   ]
  },
  {
   "cell_type": "code",
   "execution_count": 50,
   "metadata": {
    "collapsed": true
   },
   "outputs": [],
   "source": [
    "a = pd.Series(predictions)\n",
    "    "
   ]
  },
  {
   "cell_type": "code",
   "execution_count": 52,
   "metadata": {},
   "outputs": [
    {
     "data": {
      "text/plain": [
       "19    5192\n",
       "16    1807\n",
       "20    1699\n",
       "3      193\n",
       "12     162\n",
       "29     146\n",
       "1       38\n",
       "15      37\n",
       "6       19\n",
       "28       4\n",
       "2        4\n",
       "17       4\n",
       "24       4\n",
       "10       2\n",
       "dtype: int64"
      ]
     },
     "execution_count": 52,
     "metadata": {},
     "output_type": "execute_result"
    }
   ],
   "source": [
    "a.value_counts()"
   ]
  },
  {
   "cell_type": "code",
   "execution_count": 34,
   "metadata": {
    "collapsed": true
   },
   "outputs": [],
   "source": [
    "from sklearn.metrics import classification_report"
   ]
  },
  {
   "cell_type": "code",
   "execution_count": 35,
   "metadata": {},
   "outputs": [
    {
     "name": "stdout",
     "output_type": "stream",
     "text": [
      "             precision    recall  f1-score   support\n",
      "\n",
      "          1       0.92      0.12      0.21       301\n",
      "          2       0.75      0.01      0.02       278\n",
      "          3       0.88      0.31      0.46       547\n",
      "          4       0.00      0.00      0.00        45\n",
      "          5       0.00      0.00      0.00       214\n",
      "          6       0.95      0.07      0.13       250\n",
      "          7       0.00      0.00      0.00       104\n",
      "          8       0.00      0.00      0.00        89\n",
      "         10       1.00      0.01      0.02       191\n",
      "         12       0.79      0.20      0.32       637\n",
      "         13       0.00      0.00      0.00        83\n",
      "         14       0.00      0.00      0.00       120\n",
      "         15       0.78      0.08      0.15       349\n",
      "         16       0.51      0.68      0.59      1353\n",
      "         17       1.00      0.02      0.04       203\n",
      "         18       0.00      0.00      0.00        72\n",
      "         19       0.32      0.88      0.47      1911\n",
      "         20       0.56      0.78      0.65      1228\n",
      "         21       0.00      0.00      0.00        91\n",
      "         24       1.00      0.02      0.04       224\n",
      "         26       0.00      0.00      0.00       183\n",
      "         27       0.00      0.00      0.00        27\n",
      "         28       1.00      0.02      0.04       212\n",
      "         29       0.90      0.35      0.51       373\n",
      "         30       0.00      0.00      0.00        89\n",
      "         31       0.00      0.00      0.00        91\n",
      "         99       0.00      0.00      0.00        46\n",
      "\n",
      "avg / total       0.55      0.44      0.36      9311\n",
      "\n"
     ]
    },
    {
     "name": "stderr",
     "output_type": "stream",
     "text": [
      "C:\\Users\\Matheus\\Anaconda3\\lib\\site-packages\\sklearn\\metrics\\classification.py:1135: UndefinedMetricWarning: Precision and F-score are ill-defined and being set to 0.0 in labels with no predicted samples.\n",
      "  'precision', 'predicted', average, warn_for)\n"
     ]
    }
   ],
   "source": [
    "print(classification_report(topic_test,predictions))"
   ]
  },
  {
   "cell_type": "code",
   "execution_count": 51,
   "metadata": {
    "collapsed": true
   },
   "outputs": [],
   "source": [
    "pipeline2 = Pipeline([\n",
    "    ('bow',CountVectorizer(analyzer=text_process)),\n",
    "    ('tfidf', TfidfTransformer()),\n",
    "    ('classifier', RandomForestClassifier())\n",
    "])"
   ]
  },
  {
   "cell_type": "code",
   "execution_count": 52,
   "metadata": {},
   "outputs": [
    {
     "data": {
      "text/plain": [
       "Pipeline(memory=None,\n",
       "     steps=[('bow', CountVectorizer(analyzer=<function text_process at 0x000000000D5942F0>,\n",
       "        binary=False, decode_error='strict', dtype=<class 'numpy.int64'>,\n",
       "        encoding='utf-8', input='content', lowercase=True, max_df=1.0,\n",
       "        max_features=None, min_df=1, ngram_range=(1, 1), preprocesso...n_jobs=1,\n",
       "            oob_score=False, random_state=None, verbose=0,\n",
       "            warm_start=False))])"
      ]
     },
     "execution_count": 52,
     "metadata": {},
     "output_type": "execute_result"
    }
   ],
   "source": [
    "pipeline2.fit(nyt_train, topic_train)"
   ]
  },
  {
   "cell_type": "code",
   "execution_count": 53,
   "metadata": {
    "collapsed": true
   },
   "outputs": [],
   "source": [
    "predictions2 = pipeline.predict(nyt_test)"
   ]
  },
  {
   "cell_type": "code",
   "execution_count": 54,
   "metadata": {},
   "outputs": [
    {
     "name": "stdout",
     "output_type": "stream",
     "text": [
      "             precision    recall  f1-score   support\n",
      "\n",
      "          1       0.83      0.12      0.21       298\n",
      "          2       1.00      0.02      0.04       272\n",
      "          3       0.83      0.29      0.43       538\n",
      "          4       0.00      0.00      0.00        59\n",
      "          5       1.00      0.00      0.01       222\n",
      "          6       0.91      0.04      0.07       268\n",
      "          7       0.00      0.00      0.00       102\n",
      "          8       0.00      0.00      0.00        91\n",
      "         10       1.00      0.01      0.01       189\n",
      "         12       0.77      0.20      0.32       636\n",
      "         13       0.00      0.00      0.00        72\n",
      "         14       0.00      0.00      0.00       103\n",
      "         15       0.82      0.06      0.12       368\n",
      "         16       0.50      0.68      0.58      1345\n",
      "         17       1.00      0.01      0.02       218\n",
      "         18       0.00      0.00      0.00        71\n",
      "         19       0.33      0.89      0.48      1946\n",
      "         20       0.52      0.76      0.62      1181\n",
      "         21       0.00      0.00      0.00        79\n",
      "         24       1.00      0.02      0.04       201\n",
      "         26       0.00      0.00      0.00       165\n",
      "         27       0.00      0.00      0.00        37\n",
      "         28       1.00      0.01      0.02       240\n",
      "         29       0.92      0.36      0.52       369\n",
      "         30       0.00      0.00      0.00        81\n",
      "         31       0.00      0.00      0.00        98\n",
      "         99       0.00      0.00      0.00        62\n",
      "\n",
      "avg / total       0.57      0.43      0.35      9311\n",
      "\n"
     ]
    },
    {
     "name": "stderr",
     "output_type": "stream",
     "text": [
      "C:\\Users\\Matheus\\Anaconda3\\lib\\site-packages\\sklearn\\metrics\\classification.py:1135: UndefinedMetricWarning: Precision and F-score are ill-defined and being set to 0.0 in labels with no predicted samples.\n",
      "  'precision', 'predicted', average, warn_for)\n"
     ]
    }
   ],
   "source": [
    "print(classification_report(topic_test,predictions2))"
   ]
  },
  {
   "cell_type": "code",
   "execution_count": 55,
   "metadata": {},
   "outputs": [
    {
     "data": {
      "text/html": [
       "<div>\n",
       "<style>\n",
       "    .dataframe thead tr:only-child th {\n",
       "        text-align: right;\n",
       "    }\n",
       "\n",
       "    .dataframe thead th {\n",
       "        text-align: left;\n",
       "    }\n",
       "\n",
       "    .dataframe tbody tr th {\n",
       "        vertical-align: top;\n",
       "    }\n",
       "</style>\n",
       "<table border=\"1\" class=\"dataframe\">\n",
       "  <thead>\n",
       "    <tr style=\"text-align: right;\">\n",
       "      <th></th>\n",
       "      <th>Article_ID</th>\n",
       "      <th>Topic_6digit</th>\n",
       "      <th>Topic_4digit</th>\n",
       "      <th>Topic_2digit</th>\n",
       "      <th>War on Terror</th>\n",
       "      <th>Katrina</th>\n",
       "      <th>Israel/Palestine</th>\n",
       "      <th>Immigration</th>\n",
       "      <th>Presidential Elections</th>\n",
       "      <th>Clinton Impeachment</th>\n",
       "      <th>Enron</th>\n",
       "      <th>Darfur</th>\n",
       "      <th>Race/Ethnicity</th>\n",
       "      <th>Schiavo</th>\n",
       "    </tr>\n",
       "  </thead>\n",
       "  <tbody>\n",
       "    <tr>\n",
       "      <th>count</th>\n",
       "      <td>31034.000000</td>\n",
       "      <td>31034.000000</td>\n",
       "      <td>31034.000000</td>\n",
       "      <td>31034.000000</td>\n",
       "      <td>31034.000000</td>\n",
       "      <td>31034.000000</td>\n",
       "      <td>31034.000000</td>\n",
       "      <td>31034.000000</td>\n",
       "      <td>31034.000000</td>\n",
       "      <td>31034.000000</td>\n",
       "      <td>31034.000000</td>\n",
       "      <td>31034.000000</td>\n",
       "      <td>31034.000000</td>\n",
       "      <td>31034.000000</td>\n",
       "    </tr>\n",
       "    <tr>\n",
       "      <th>mean</th>\n",
       "      <td>15517.500000</td>\n",
       "      <td>164152.898660</td>\n",
       "      <td>1641.543855</td>\n",
       "      <td>16.279532</td>\n",
       "      <td>0.136205</td>\n",
       "      <td>0.005478</td>\n",
       "      <td>0.034253</td>\n",
       "      <td>0.012341</td>\n",
       "      <td>0.052459</td>\n",
       "      <td>0.014307</td>\n",
       "      <td>0.005993</td>\n",
       "      <td>0.000838</td>\n",
       "      <td>0.014951</td>\n",
       "      <td>0.000741</td>\n",
       "    </tr>\n",
       "    <tr>\n",
       "      <th>std</th>\n",
       "      <td>8958.888463</td>\n",
       "      <td>96256.828146</td>\n",
       "      <td>962.523270</td>\n",
       "      <td>9.661223</td>\n",
       "      <td>0.343012</td>\n",
       "      <td>0.073811</td>\n",
       "      <td>0.181881</td>\n",
       "      <td>0.110406</td>\n",
       "      <td>0.222954</td>\n",
       "      <td>0.118755</td>\n",
       "      <td>0.077186</td>\n",
       "      <td>0.028933</td>\n",
       "      <td>0.121360</td>\n",
       "      <td>0.027214</td>\n",
       "    </tr>\n",
       "    <tr>\n",
       "      <th>min</th>\n",
       "      <td>1.000000</td>\n",
       "      <td>10000.000000</td>\n",
       "      <td>100.000000</td>\n",
       "      <td>1.000000</td>\n",
       "      <td>0.000000</td>\n",
       "      <td>0.000000</td>\n",
       "      <td>0.000000</td>\n",
       "      <td>0.000000</td>\n",
       "      <td>0.000000</td>\n",
       "      <td>0.000000</td>\n",
       "      <td>0.000000</td>\n",
       "      <td>0.000000</td>\n",
       "      <td>0.000000</td>\n",
       "      <td>0.000000</td>\n",
       "    </tr>\n",
       "    <tr>\n",
       "      <th>25%</th>\n",
       "      <td>7759.250000</td>\n",
       "      <td>120800.000000</td>\n",
       "      <td>1208.000000</td>\n",
       "      <td>12.000000</td>\n",
       "      <td>0.000000</td>\n",
       "      <td>0.000000</td>\n",
       "      <td>0.000000</td>\n",
       "      <td>0.000000</td>\n",
       "      <td>0.000000</td>\n",
       "      <td>0.000000</td>\n",
       "      <td>0.000000</td>\n",
       "      <td>0.000000</td>\n",
       "      <td>0.000000</td>\n",
       "      <td>0.000000</td>\n",
       "    </tr>\n",
       "    <tr>\n",
       "      <th>50%</th>\n",
       "      <td>15517.500000</td>\n",
       "      <td>170600.000000</td>\n",
       "      <td>1706.000000</td>\n",
       "      <td>17.000000</td>\n",
       "      <td>0.000000</td>\n",
       "      <td>0.000000</td>\n",
       "      <td>0.000000</td>\n",
       "      <td>0.000000</td>\n",
       "      <td>0.000000</td>\n",
       "      <td>0.000000</td>\n",
       "      <td>0.000000</td>\n",
       "      <td>0.000000</td>\n",
       "      <td>0.000000</td>\n",
       "      <td>0.000000</td>\n",
       "    </tr>\n",
       "    <tr>\n",
       "      <th>75%</th>\n",
       "      <td>23275.750000</td>\n",
       "      <td>201000.000000</td>\n",
       "      <td>2010.000000</td>\n",
       "      <td>20.000000</td>\n",
       "      <td>0.000000</td>\n",
       "      <td>0.000000</td>\n",
       "      <td>0.000000</td>\n",
       "      <td>0.000000</td>\n",
       "      <td>0.000000</td>\n",
       "      <td>0.000000</td>\n",
       "      <td>0.000000</td>\n",
       "      <td>0.000000</td>\n",
       "      <td>0.000000</td>\n",
       "      <td>0.000000</td>\n",
       "    </tr>\n",
       "    <tr>\n",
       "      <th>max</th>\n",
       "      <td>31034.000000</td>\n",
       "      <td>990000.000000</td>\n",
       "      <td>9900.000000</td>\n",
       "      <td>99.000000</td>\n",
       "      <td>1.000000</td>\n",
       "      <td>1.000000</td>\n",
       "      <td>1.000000</td>\n",
       "      <td>1.000000</td>\n",
       "      <td>1.000000</td>\n",
       "      <td>1.000000</td>\n",
       "      <td>1.000000</td>\n",
       "      <td>1.000000</td>\n",
       "      <td>1.000000</td>\n",
       "      <td>1.000000</td>\n",
       "    </tr>\n",
       "  </tbody>\n",
       "</table>\n",
       "</div>"
      ],
      "text/plain": [
       "         Article_ID   Topic_6digit  Topic_4digit  Topic_2digit  War on Terror  \\\n",
       "count  31034.000000   31034.000000  31034.000000  31034.000000   31034.000000   \n",
       "mean   15517.500000  164152.898660   1641.543855     16.279532       0.136205   \n",
       "std     8958.888463   96256.828146    962.523270      9.661223       0.343012   \n",
       "min        1.000000   10000.000000    100.000000      1.000000       0.000000   \n",
       "25%     7759.250000  120800.000000   1208.000000     12.000000       0.000000   \n",
       "50%    15517.500000  170600.000000   1706.000000     17.000000       0.000000   \n",
       "75%    23275.750000  201000.000000   2010.000000     20.000000       0.000000   \n",
       "max    31034.000000  990000.000000   9900.000000     99.000000       1.000000   \n",
       "\n",
       "            Katrina  Israel/Palestine   Immigration  Presidential Elections  \\\n",
       "count  31034.000000      31034.000000  31034.000000            31034.000000   \n",
       "mean       0.005478          0.034253      0.012341                0.052459   \n",
       "std        0.073811          0.181881      0.110406                0.222954   \n",
       "min        0.000000          0.000000      0.000000                0.000000   \n",
       "25%        0.000000          0.000000      0.000000                0.000000   \n",
       "50%        0.000000          0.000000      0.000000                0.000000   \n",
       "75%        0.000000          0.000000      0.000000                0.000000   \n",
       "max        1.000000          1.000000      1.000000                1.000000   \n",
       "\n",
       "       Clinton Impeachment         Enron        Darfur  Race/Ethnicity  \\\n",
       "count         31034.000000  31034.000000  31034.000000    31034.000000   \n",
       "mean              0.014307      0.005993      0.000838        0.014951   \n",
       "std               0.118755      0.077186      0.028933        0.121360   \n",
       "min               0.000000      0.000000      0.000000        0.000000   \n",
       "25%               0.000000      0.000000      0.000000        0.000000   \n",
       "50%               0.000000      0.000000      0.000000        0.000000   \n",
       "75%               0.000000      0.000000      0.000000        0.000000   \n",
       "max               1.000000      1.000000      1.000000        1.000000   \n",
       "\n",
       "            Schiavo  \n",
       "count  31034.000000  \n",
       "mean       0.000741  \n",
       "std        0.027214  \n",
       "min        0.000000  \n",
       "25%        0.000000  \n",
       "50%        0.000000  \n",
       "75%        0.000000  \n",
       "max        1.000000  "
      ]
     },
     "execution_count": 55,
     "metadata": {},
     "output_type": "execute_result"
    }
   ],
   "source": [
    "nyt.describe()"
   ]
  },
  {
   "cell_type": "code",
   "execution_count": 56,
   "metadata": {},
   "outputs": [
    {
     "data": {
      "text/plain": [
       "count                                    21723\n",
       "unique                                   21308\n",
       "top       CRISIS IN THE BALKANS: THE OVERVIEW;\n",
       "freq                                        30\n",
       "Name: Title, dtype: object"
      ]
     },
     "execution_count": 56,
     "metadata": {},
     "output_type": "execute_result"
    }
   ],
   "source": [
    "nyt_train.describe()"
   ]
  },
  {
   "cell_type": "code",
   "execution_count": 57,
   "metadata": {},
   "outputs": [
    {
     "data": {
      "text/plain": [
       "count    21723.000000\n",
       "mean        16.252359\n",
       "std          9.491754\n",
       "min          1.000000\n",
       "25%         12.000000\n",
       "50%         17.000000\n",
       "75%         20.000000\n",
       "max         99.000000\n",
       "Name: Topic_2digit, dtype: float64"
      ]
     },
     "execution_count": 57,
     "metadata": {},
     "output_type": "execute_result"
    }
   ],
   "source": [
    "topic_train.describe()"
   ]
  },
  {
   "cell_type": "code",
   "execution_count": 65,
   "metadata": {},
   "outputs": [
    {
     "data": {
      "text/plain": [
       "19    1946\n",
       "16    1345\n",
       "20    1181\n",
       "12     636\n",
       "3      538\n",
       "29     369\n",
       "15     368\n",
       "1      298\n",
       "2      272\n",
       "6      268\n",
       "28     240\n",
       "5      222\n",
       "17     218\n",
       "24     201\n",
       "10     189\n",
       "26     165\n",
       "14     103\n",
       "7      102\n",
       "31      98\n",
       "8       91\n",
       "30      81\n",
       "21      79\n",
       "13      72\n",
       "18      71\n",
       "99      62\n",
       "4       59\n",
       "27      37\n",
       "Name: Topic_2digit, dtype: int64"
      ]
     },
     "execution_count": 65,
     "metadata": {},
     "output_type": "execute_result"
    }
   ],
   "source": [
    "topic_test.value_counts()"
   ]
  },
  {
   "cell_type": "code",
   "execution_count": 66,
   "metadata": {},
   "outputs": [
    {
     "data": {
      "text/plain": [
       "BASEBALL;                                                                                      14\n",
       "CRISIS IN THE BALKANS: THE OVERVIEW;                                                           14\n",
       "INTERNATIONAL BUSINESS;                                                                        13\n",
       "TESTING OF A PRESIDENT: THE OVERVIEW;                                                          11\n",
       "CONFLICT IN THE BALKANS: THE OVERVIEW;                                                          6\n",
       "TESTING OF A PRESIDENT: THE PRESIDENT;                                                          5\n",
       " SALT LAKE 2002                                                                                 5\n",
       "THE MARKETS: Market Place;                                                                      5\n",
       "CRISIS IN THE BALKANS;                                                                          4\n",
       "NUCLEAR ANXIETY: THE OVERVIEW;                                                                  4\n",
       "TESTING OF A PRESIDENT: THE INVESTIGATION;                                                      4\n",
       "SPECIAL TODAY;                                                                                  4\n",
       "A Reminder                                                                                      4\n",
       "THE PRESIDENT UNDER FIRE: THE OVERVIEW;                                                         4\n",
       "MIDEAST ACCORD: THE OVERVIEW;                                                                   3\n",
       "OLYMPICS;                                                                                       3\n",
       "TESTING OF A PRESIDENT: NEWS ANALYSIS;                                                          3\n",
       "PRO FOOTBALL;                                                                                   3\n",
       "The Pulitzer Prizes                                                                             3\n",
       "Sports of The Times;                                                                            3\n",
       "THE MEDIA BUSINESS;                                                                             3\n",
       "THE MARKETS;                                                                                    3\n",
       "THE REPUBLICANS: THE OVERVIEW;                                                                  2\n",
       "THE MARKETS: STOCKS;                                                                            2\n",
       "THE 1998 CAMPAIGN: THE SENATE;                                                                  2\n",
       "AFTER THE ATTACKS: THE OVERVIEW;                                                                2\n",
       "PRO BASKETBALL;                                                                                 2\n",
       "CRISIS IN THE BALKANS: NATO;                                                                    2\n",
       "THE 2000 CAMPAIGN: THE TEXAS GOVERNOR;                                                          2\n",
       "ENRON'S MANY STRANDS                                                                            2\n",
       "                                                                                               ..\n",
       "View From Pataki's Garden: A Serene Campaign Strategy                                           1\n",
       "Tennessee Wins National Title                                                                   1\n",
       "COUNTING THE VOTE: DUVAL COUNTY;\\rDemocrats Rue Ballot Foul-Up In a 2nd County                  1\n",
       "BUSH REBUKES NORTH KOREA; U.S. SEEKS NEW U.N. SANCTIONS                                         1\n",
       "Cheney Ever More Powerful As Crucial Link to Congress                                           1\n",
       "Lindh Coerced After Capture, Lawyers Assert                                                     1\n",
       "Stocks Roar Back                                                                                1\n",
       "INQUIRY HEATS UP AS RENO EXAMINES PRESIDENT'S CALLS                                             1\n",
       " A Top Iraqi Captured                                                                           1\n",
       "Democrats Find Some Traction On Capitol Hill                                                    1\n",
       "Photo Gives Weight To Einstein's Thesis of Negative Gravity                                     1\n",
       "Attacks in 5 Iraqi Cities Leave More Than 100 Dead                                              1\n",
       "PRESIDENT OFFERS MEDICARE SAVINGS                                                               1\n",
       "Study Challenges Idea of PMS as Emotional Disorder                                              1\n",
       "A Case Study in Disaster For Tomorrow's Generals                                                1\n",
       "Pay to 2 Lobbyists by Public TV Is Investigated                                                 1\n",
       "Nature Ceded the Missouri to Man; Now Some Would Give It Back                                   1\n",
       "STATES PROPOSING SWEEPING CHANGE TO TRIM MEDICAID                                               1\n",
       "Day 1 Arouses Retailers' Hopes That Christmas Is on the Rebound                                 1\n",
       "MANEUVERS SHOW RUSSIAN RELIANCE ON NUCLEAR ARMS                                                 1\n",
       "THREATS AND RESPONSES: DIPLOMACY; \\rEXILE FOR HUSSEIN MAY BE AN OPTION, U.S. OFFICIALS HINT     1\n",
       "Stadium Building Boom Bypasses New York                                                         1\n",
       "Technology and Easy Credit Give Identity Thieves an Edge                                        1\n",
       "Good Things for Maxim Writer Who Waited                                                         1\n",
       "Digital Memories, Piling Up, May Prove Fleeting                                                 1\n",
       "Knicks Win, 82-76, and Tie Series                                                               1\n",
       " A Tale of Nuclear Proliferation: How Pakistani Built His Network                               1\n",
       "Lazio-Clinton Race Ends in Squabbling                                                           1\n",
       "THE 2000 CAMPAIGN: THE MAN IN THE NEWS;                                                         1\n",
       "Alaska, No Longer So Frigid, Starts to Crack, Burn and Sag                                      1\n",
       "Name: Title, Length: 9177, dtype: int64"
      ]
     },
     "execution_count": 66,
     "metadata": {},
     "output_type": "execute_result"
    }
   ],
   "source": [
    "nyt_test.value_counts()"
   ]
  },
  {
   "cell_type": "markdown",
   "metadata": {
    "collapsed": true
   },
   "source": [
    "Versão Com Stopwords"
   ]
  },
  {
   "cell_type": "code",
   "execution_count": 8,
   "metadata": {
    "collapsed": true
   },
   "outputs": [],
   "source": [
    "def text_process(mess):\n",
    "    \"\"\"\n",
    "    1. remove punc\n",
    "    2. remove stop words\n",
    "    3. return list of clean text words\n",
    "    \"\"\"\n",
    "\n",
    "    nopunc = [char for char in mess if char not in string.punctuation]\n",
    "    \n",
    "    nopunc = ''.join(nopunc)\n",
    "\n",
    "    return [word for word in nopunc.split() ]"
   ]
  },
  {
   "cell_type": "code",
   "execution_count": 9,
   "metadata": {},
   "outputs": [
    {
     "data": {
      "text/plain": [
       "['i',\n",
       " 'me',\n",
       " 'my',\n",
       " 'myself',\n",
       " 'we',\n",
       " 'our',\n",
       " 'ours',\n",
       " 'ourselves',\n",
       " 'you',\n",
       " 'your',\n",
       " 'yours',\n",
       " 'yourself',\n",
       " 'yourselves',\n",
       " 'he',\n",
       " 'him',\n",
       " 'his',\n",
       " 'himself',\n",
       " 'she',\n",
       " 'her',\n",
       " 'hers',\n",
       " 'herself',\n",
       " 'it',\n",
       " 'its',\n",
       " 'itself',\n",
       " 'they',\n",
       " 'them',\n",
       " 'their',\n",
       " 'theirs',\n",
       " 'themselves',\n",
       " 'what',\n",
       " 'which',\n",
       " 'who',\n",
       " 'whom',\n",
       " 'this',\n",
       " 'that',\n",
       " 'these',\n",
       " 'those',\n",
       " 'am',\n",
       " 'is',\n",
       " 'are',\n",
       " 'was',\n",
       " 'were',\n",
       " 'be',\n",
       " 'been',\n",
       " 'being',\n",
       " 'have',\n",
       " 'has',\n",
       " 'had',\n",
       " 'having',\n",
       " 'do',\n",
       " 'does',\n",
       " 'did',\n",
       " 'doing',\n",
       " 'a',\n",
       " 'an',\n",
       " 'the',\n",
       " 'and',\n",
       " 'but',\n",
       " 'if',\n",
       " 'or',\n",
       " 'because',\n",
       " 'as',\n",
       " 'until',\n",
       " 'while',\n",
       " 'of',\n",
       " 'at',\n",
       " 'by',\n",
       " 'for',\n",
       " 'with',\n",
       " 'about',\n",
       " 'against',\n",
       " 'between',\n",
       " 'into',\n",
       " 'through',\n",
       " 'during',\n",
       " 'before',\n",
       " 'after',\n",
       " 'above',\n",
       " 'below',\n",
       " 'to',\n",
       " 'from',\n",
       " 'up',\n",
       " 'down',\n",
       " 'in',\n",
       " 'out',\n",
       " 'on',\n",
       " 'off',\n",
       " 'over',\n",
       " 'under',\n",
       " 'again',\n",
       " 'further',\n",
       " 'then',\n",
       " 'once',\n",
       " 'here',\n",
       " 'there',\n",
       " 'when',\n",
       " 'where',\n",
       " 'why',\n",
       " 'how',\n",
       " 'all',\n",
       " 'any',\n",
       " 'both',\n",
       " 'each',\n",
       " 'few',\n",
       " 'more',\n",
       " 'most',\n",
       " 'other',\n",
       " 'some',\n",
       " 'such',\n",
       " 'no',\n",
       " 'nor',\n",
       " 'not',\n",
       " 'only',\n",
       " 'own',\n",
       " 'same',\n",
       " 'so',\n",
       " 'than',\n",
       " 'too',\n",
       " 'very',\n",
       " 's',\n",
       " 't',\n",
       " 'can',\n",
       " 'will',\n",
       " 'just',\n",
       " 'don',\n",
       " 'should',\n",
       " 'now',\n",
       " 'd',\n",
       " 'll',\n",
       " 'm',\n",
       " 'o',\n",
       " 're',\n",
       " 've',\n",
       " 'y',\n",
       " 'ain',\n",
       " 'aren',\n",
       " 'couldn',\n",
       " 'didn',\n",
       " 'doesn',\n",
       " 'hadn',\n",
       " 'hasn',\n",
       " 'haven',\n",
       " 'isn',\n",
       " 'ma',\n",
       " 'mightn',\n",
       " 'mustn',\n",
       " 'needn',\n",
       " 'shan',\n",
       " 'shouldn',\n",
       " 'wasn',\n",
       " 'weren',\n",
       " 'won',\n",
       " 'wouldn']"
      ]
     },
     "execution_count": 9,
     "metadata": {},
     "output_type": "execute_result"
    }
   ],
   "source": [
    "stopwords.words('english')"
   ]
  },
  {
   "cell_type": "code",
   "execution_count": 29,
   "metadata": {},
   "outputs": [
    {
     "data": {
      "text/plain": [
       "19    6354\n",
       "16    4479\n",
       "20    3958\n",
       "12    2088\n",
       "3     1799\n",
       "29    1273\n",
       "15    1249\n",
       "1      964\n",
       "2      914\n",
       "6      912\n",
       "28     769\n",
       "5      749\n",
       "17     719\n",
       "24     715\n",
       "10     594\n",
       "26     573\n",
       "14     410\n",
       "7      354\n",
       "31     329\n",
       "8      299\n",
       "13     273\n",
       "21     269\n",
       "30     268\n",
       "18     254\n",
       "99     172\n",
       "4      168\n",
       "27     129\n",
       "Name: Topic_2digit, dtype: int64"
      ]
     },
     "execution_count": 29,
     "metadata": {},
     "output_type": "execute_result"
    }
   ],
   "source": [
    "nyt_processed['Topic_2digit'].value_counts()"
   ]
  },
  {
   "cell_type": "code",
   "execution_count": null,
   "metadata": {
    "collapsed": true
   },
   "outputs": [],
   "source": []
  }
 ],
 "metadata": {
  "kernelspec": {
   "display_name": "Python 3",
   "language": "python",
   "name": "python3"
  },
  "language_info": {
   "codemirror_mode": {
    "name": "ipython",
    "version": 3
   },
   "file_extension": ".py",
   "mimetype": "text/x-python",
   "name": "python",
   "nbconvert_exporter": "python",
   "pygments_lexer": "ipython3",
   "version": "3.6.2"
  }
 },
 "nbformat": 4,
 "nbformat_minor": 2
}
