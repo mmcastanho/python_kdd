{
 "cells": [
  {
   "cell_type": "code",
   "execution_count": 1,
   "metadata": {
    "collapsed": true
   },
   "outputs": [],
   "source": [
    "import pandas as pd\n",
    "import sklearn\n",
    "import numpy as np\n",
    "import matplotlib.pyplot as plt\n",
    "import seaborn as sns\n",
    "%matplotlib inline\n",
    "from wordcloud import WordCloud,STOPWORDS"
   ]
  },
  {
   "cell_type": "code",
   "execution_count": 2,
   "metadata": {
    "collapsed": true
   },
   "outputs": [],
   "source": [
    "nyt = pd.read_csv('nyt_ftpg_1996_2006.csv', encoding='ISO-8859-1')"
   ]
  },
  {
   "cell_type": "code",
   "execution_count": 3,
   "metadata": {},
   "outputs": [
    {
     "name": "stdout",
     "output_type": "stream",
     "text": [
      "<class 'pandas.core.frame.DataFrame'>\n",
      "RangeIndex: 31034 entries, 0 to 31033\n",
      "Data columns (total 18 columns):\n",
      "Article_ID                31034 non-null int64\n",
      "Date                      31034 non-null object\n",
      "Article_Sequence          31034 non-null object\n",
      "Title                     31034 non-null object\n",
      "Summary                   31034 non-null object\n",
      "Topic_6digit              31034 non-null int64\n",
      "Topic_4digit              31034 non-null int64\n",
      "Topic_2digit              31034 non-null int64\n",
      "War on Terror             31034 non-null int64\n",
      "Katrina                   31034 non-null int64\n",
      "Israel/Palestine          31034 non-null int64\n",
      "Immigration               31034 non-null int64\n",
      "Presidential Elections    31034 non-null int64\n",
      "Clinton Impeachment       31034 non-null int64\n",
      "Enron                     31034 non-null int64\n",
      "Darfur                    31034 non-null int64\n",
      "Race/Ethnicity            31034 non-null int64\n",
      "Schiavo                   31034 non-null int64\n",
      "dtypes: int64(14), object(4)\n",
      "memory usage: 4.3+ MB\n"
     ]
    }
   ],
   "source": [
    "nyt.info()"
   ]
  },
  {
   "cell_type": "code",
   "execution_count": 4,
   "metadata": {},
   "outputs": [
    {
     "data": {
      "text/html": [
       "<div>\n",
       "<style>\n",
       "    .dataframe thead tr:only-child th {\n",
       "        text-align: right;\n",
       "    }\n",
       "\n",
       "    .dataframe thead th {\n",
       "        text-align: left;\n",
       "    }\n",
       "\n",
       "    .dataframe tbody tr th {\n",
       "        vertical-align: top;\n",
       "    }\n",
       "</style>\n",
       "<table border=\"1\" class=\"dataframe\">\n",
       "  <thead>\n",
       "    <tr style=\"text-align: right;\">\n",
       "      <th></th>\n",
       "      <th>Article_ID</th>\n",
       "      <th>Date</th>\n",
       "      <th>Article_Sequence</th>\n",
       "      <th>Title</th>\n",
       "      <th>Summary</th>\n",
       "      <th>Topic_6digit</th>\n",
       "      <th>Topic_4digit</th>\n",
       "      <th>Topic_2digit</th>\n",
       "      <th>War on Terror</th>\n",
       "      <th>Katrina</th>\n",
       "      <th>Israel/Palestine</th>\n",
       "      <th>Immigration</th>\n",
       "      <th>Presidential Elections</th>\n",
       "      <th>Clinton Impeachment</th>\n",
       "      <th>Enron</th>\n",
       "      <th>Darfur</th>\n",
       "      <th>Race/Ethnicity</th>\n",
       "      <th>Schiavo</th>\n",
       "    </tr>\n",
       "  </thead>\n",
       "  <tbody>\n",
       "    <tr>\n",
       "      <th>0</th>\n",
       "      <td>1</td>\n",
       "      <td>1/1/1996</td>\n",
       "      <td>a</td>\n",
       "      <td>Nation's Smaller Jails Struggle To Cope With S...</td>\n",
       "      <td>Jails overwhelmed with hardened criminals</td>\n",
       "      <td>120500</td>\n",
       "      <td>1205</td>\n",
       "      <td>12</td>\n",
       "      <td>0</td>\n",
       "      <td>0</td>\n",
       "      <td>0</td>\n",
       "      <td>0</td>\n",
       "      <td>0</td>\n",
       "      <td>0</td>\n",
       "      <td>0</td>\n",
       "      <td>0</td>\n",
       "      <td>0</td>\n",
       "      <td>0</td>\n",
       "    </tr>\n",
       "    <tr>\n",
       "      <th>1</th>\n",
       "      <td>2</td>\n",
       "      <td>1/1/1996</td>\n",
       "      <td>b</td>\n",
       "      <td>Dancing (and Kissing) In the New Year</td>\n",
       "      <td>new years activities</td>\n",
       "      <td>280000</td>\n",
       "      <td>2800</td>\n",
       "      <td>28</td>\n",
       "      <td>0</td>\n",
       "      <td>0</td>\n",
       "      <td>0</td>\n",
       "      <td>0</td>\n",
       "      <td>0</td>\n",
       "      <td>0</td>\n",
       "      <td>0</td>\n",
       "      <td>0</td>\n",
       "      <td>0</td>\n",
       "      <td>0</td>\n",
       "    </tr>\n",
       "    <tr>\n",
       "      <th>2</th>\n",
       "      <td>3</td>\n",
       "      <td>1/1/1996</td>\n",
       "      <td>c</td>\n",
       "      <td>Forbes's Silver Bullet for the Nation's Malaise</td>\n",
       "      <td>Steve Forbes running for President</td>\n",
       "      <td>201201</td>\n",
       "      <td>2012</td>\n",
       "      <td>20</td>\n",
       "      <td>0</td>\n",
       "      <td>0</td>\n",
       "      <td>0</td>\n",
       "      <td>0</td>\n",
       "      <td>1</td>\n",
       "      <td>0</td>\n",
       "      <td>0</td>\n",
       "      <td>0</td>\n",
       "      <td>0</td>\n",
       "      <td>0</td>\n",
       "    </tr>\n",
       "    <tr>\n",
       "      <th>3</th>\n",
       "      <td>4</td>\n",
       "      <td>1/1/1996</td>\n",
       "      <td>d</td>\n",
       "      <td>Up at Last, Bridge to Bosnia Is Swaying Gatewa...</td>\n",
       "      <td>U.S. military constructs bridge to help their ...</td>\n",
       "      <td>160200</td>\n",
       "      <td>1602</td>\n",
       "      <td>16</td>\n",
       "      <td>0</td>\n",
       "      <td>0</td>\n",
       "      <td>0</td>\n",
       "      <td>0</td>\n",
       "      <td>0</td>\n",
       "      <td>0</td>\n",
       "      <td>0</td>\n",
       "      <td>0</td>\n",
       "      <td>0</td>\n",
       "      <td>0</td>\n",
       "    </tr>\n",
       "    <tr>\n",
       "      <th>4</th>\n",
       "      <td>5</td>\n",
       "      <td>1/1/1996</td>\n",
       "      <td>e</td>\n",
       "      <td>2 SIDES IN SENATE DISAGREE ON PLAN TO END FURL...</td>\n",
       "      <td>Democrats and Republicans can't agree on plan ...</td>\n",
       "      <td>201206</td>\n",
       "      <td>2012</td>\n",
       "      <td>20</td>\n",
       "      <td>0</td>\n",
       "      <td>0</td>\n",
       "      <td>0</td>\n",
       "      <td>0</td>\n",
       "      <td>0</td>\n",
       "      <td>0</td>\n",
       "      <td>0</td>\n",
       "      <td>0</td>\n",
       "      <td>0</td>\n",
       "      <td>0</td>\n",
       "    </tr>\n",
       "  </tbody>\n",
       "</table>\n",
       "</div>"
      ],
      "text/plain": [
       "   Article_ID      Date Article_Sequence  \\\n",
       "0           1  1/1/1996                a   \n",
       "1           2  1/1/1996                b   \n",
       "2           3  1/1/1996                c   \n",
       "3           4  1/1/1996                d   \n",
       "4           5  1/1/1996                e   \n",
       "\n",
       "                                               Title  \\\n",
       "0  Nation's Smaller Jails Struggle To Cope With S...   \n",
       "1             Dancing (and Kissing) In the New Year    \n",
       "2   Forbes's Silver Bullet for the Nation's Malaise    \n",
       "3  Up at Last, Bridge to Bosnia Is Swaying Gatewa...   \n",
       "4  2 SIDES IN SENATE DISAGREE ON PLAN TO END FURL...   \n",
       "\n",
       "                                             Summary  Topic_6digit  \\\n",
       "0          Jails overwhelmed with hardened criminals        120500   \n",
       "1                               new years activities        280000   \n",
       "2                 Steve Forbes running for President        201201   \n",
       "3  U.S. military constructs bridge to help their ...        160200   \n",
       "4  Democrats and Republicans can't agree on plan ...        201206   \n",
       "\n",
       "   Topic_4digit  Topic_2digit  War on Terror  Katrina  Israel/Palestine  \\\n",
       "0          1205            12              0        0                 0   \n",
       "1          2800            28              0        0                 0   \n",
       "2          2012            20              0        0                 0   \n",
       "3          1602            16              0        0                 0   \n",
       "4          2012            20              0        0                 0   \n",
       "\n",
       "   Immigration  Presidential Elections  Clinton Impeachment  Enron  Darfur  \\\n",
       "0            0                       0                    0      0       0   \n",
       "1            0                       0                    0      0       0   \n",
       "2            0                       1                    0      0       0   \n",
       "3            0                       0                    0      0       0   \n",
       "4            0                       0                    0      0       0   \n",
       "\n",
       "   Race/Ethnicity  Schiavo  \n",
       "0               0        0  \n",
       "1               0        0  \n",
       "2               0        0  \n",
       "3               0        0  \n",
       "4               0        0  "
      ]
     },
     "execution_count": 4,
     "metadata": {},
     "output_type": "execute_result"
    }
   ],
   "source": [
    "nyt.head()"
   ]
  },
  {
   "cell_type": "code",
   "execution_count": 5,
   "metadata": {
    "collapsed": true
   },
   "outputs": [],
   "source": [
    "from nltk.corpus import stopwords\n",
    "import string"
   ]
  },
  {
   "cell_type": "code",
   "execution_count": 6,
   "metadata": {
    "collapsed": true
   },
   "outputs": [],
   "source": [
    "title1 = nyt['Title'][0]"
   ]
  },
  {
   "cell_type": "code",
   "execution_count": 7,
   "metadata": {},
   "outputs": [
    {
     "data": {
      "text/plain": [
       "\"Nation's Smaller Jails Struggle To Cope With Surge in Inmates \""
      ]
     },
     "execution_count": 7,
     "metadata": {},
     "output_type": "execute_result"
    }
   ],
   "source": [
    "title1"
   ]
  },
  {
   "cell_type": "code",
   "execution_count": 8,
   "metadata": {
    "collapsed": true
   },
   "outputs": [],
   "source": [
    "def text_process(mess):\n",
    "    \"\"\"\n",
    "    1. remove punc\n",
    "    2. remove stop words\n",
    "    3. return list of clean text words\n",
    "    \"\"\"\n",
    "\n",
    "    nopunc = [char for char in mess if char not in string.punctuation]\n",
    "    \n",
    "    nopunc = ''.join(nopunc)\n",
    "\n",
    "    return [word for word in nopunc.split() if word.lower() not in stopwords.words('english')]"
   ]
  },
  {
   "cell_type": "code",
   "execution_count": 9,
   "metadata": {},
   "outputs": [
    {
     "data": {
      "text/plain": [
       "['Nations', 'Smaller', 'Jails', 'Struggle', 'Cope', 'Surge', 'Inmates']"
      ]
     },
     "execution_count": 9,
     "metadata": {},
     "output_type": "execute_result"
    }
   ],
   "source": [
    "text_process(title1)"
   ]
  },
  {
   "cell_type": "code",
   "execution_count": 10,
   "metadata": {
    "collapsed": true
   },
   "outputs": [],
   "source": [
    "nyt_processed = nyt[['Title','Topic_2digit']]"
   ]
  },
  {
   "cell_type": "code",
   "execution_count": 11,
   "metadata": {},
   "outputs": [
    {
     "data": {
      "text/html": [
       "<div>\n",
       "<style>\n",
       "    .dataframe thead tr:only-child th {\n",
       "        text-align: right;\n",
       "    }\n",
       "\n",
       "    .dataframe thead th {\n",
       "        text-align: left;\n",
       "    }\n",
       "\n",
       "    .dataframe tbody tr th {\n",
       "        vertical-align: top;\n",
       "    }\n",
       "</style>\n",
       "<table border=\"1\" class=\"dataframe\">\n",
       "  <thead>\n",
       "    <tr style=\"text-align: right;\">\n",
       "      <th></th>\n",
       "      <th>Title</th>\n",
       "      <th>Topic_2digit</th>\n",
       "    </tr>\n",
       "  </thead>\n",
       "  <tbody>\n",
       "    <tr>\n",
       "      <th>0</th>\n",
       "      <td>Nation's Smaller Jails Struggle To Cope With S...</td>\n",
       "      <td>12</td>\n",
       "    </tr>\n",
       "    <tr>\n",
       "      <th>1</th>\n",
       "      <td>Dancing (and Kissing) In the New Year</td>\n",
       "      <td>28</td>\n",
       "    </tr>\n",
       "    <tr>\n",
       "      <th>2</th>\n",
       "      <td>Forbes's Silver Bullet for the Nation's Malaise</td>\n",
       "      <td>20</td>\n",
       "    </tr>\n",
       "    <tr>\n",
       "      <th>3</th>\n",
       "      <td>Up at Last, Bridge to Bosnia Is Swaying Gatewa...</td>\n",
       "      <td>16</td>\n",
       "    </tr>\n",
       "    <tr>\n",
       "      <th>4</th>\n",
       "      <td>2 SIDES IN SENATE DISAGREE ON PLAN TO END FURL...</td>\n",
       "      <td>20</td>\n",
       "    </tr>\n",
       "  </tbody>\n",
       "</table>\n",
       "</div>"
      ],
      "text/plain": [
       "                                               Title  Topic_2digit\n",
       "0  Nation's Smaller Jails Struggle To Cope With S...            12\n",
       "1             Dancing (and Kissing) In the New Year             28\n",
       "2   Forbes's Silver Bullet for the Nation's Malaise             20\n",
       "3  Up at Last, Bridge to Bosnia Is Swaying Gatewa...            16\n",
       "4  2 SIDES IN SENATE DISAGREE ON PLAN TO END FURL...            20"
      ]
     },
     "execution_count": 11,
     "metadata": {},
     "output_type": "execute_result"
    }
   ],
   "source": [
    "nyt_processed.head()"
   ]
  },
  {
   "cell_type": "code",
   "execution_count": 12,
   "metadata": {},
   "outputs": [
    {
     "data": {
      "text/plain": [
       "<matplotlib.axes._subplots.AxesSubplot at 0xdd7f588>"
      ]
     },
     "execution_count": 12,
     "metadata": {},
     "output_type": "execute_result"
    },
    {
     "data": {
      "image/png": "[encoded data removed]",
      "text/plain": [
       "<matplotlib.figure.Figure at 0xdd85c18>"
      ]
     },
     "metadata": {},
     "output_type": "display_data"
    }
   ],
   "source": [
    "sns.countplot(data=nyt_processed, x='Topic_2digit')"
   ]
  },
  {
   "cell_type": "code",
   "execution_count": 13,
   "metadata": {},
   "outputs": [
    {
     "data": {
      "text/plain": [
       "19    6354\n",
       "16    4479\n",
       "20    3958\n",
       "12    2088\n",
       "3     1799\n",
       "29    1273\n",
       "15    1249\n",
       "1      964\n",
       "2      914\n",
       "6      912\n",
       "28     769\n",
       "5      749\n",
       "17     719\n",
       "24     715\n",
       "10     594\n",
       "26     573\n",
       "14     410\n",
       "7      354\n",
       "31     329\n",
       "8      299\n",
       "13     273\n",
       "21     269\n",
       "30     268\n",
       "18     254\n",
       "99     172\n",
       "4      168\n",
       "27     129\n",
       "Name: Topic_2digit, dtype: int64"
      ]
     },
     "execution_count": 13,
     "metadata": {},
     "output_type": "execute_result"
    }
   ],
   "source": [
    "nyt_processed['Topic_2digit'].value_counts()\n"
   ]
  },
  {
   "cell_type": "code",
   "execution_count": 14,
   "metadata": {
    "collapsed": true
   },
   "outputs": [],
   "source": [
    "nyt['lenght'] = nyt['Title'].apply(len)"
   ]
  },
  {
   "cell_type": "code",
   "execution_count": 15,
   "metadata": {
    "collapsed": true
   },
   "outputs": [],
   "source": [
    "def countWord(title):\n",
    "    return len(title.split())\n"
   ]
  },
  {
   "cell_type": "code",
   "execution_count": 16,
   "metadata": {},
   "outputs": [
    {
     "data": {
      "text/plain": [
       "5"
      ]
     },
     "execution_count": 16,
     "metadata": {},
     "output_type": "execute_result"
    }
   ],
   "source": [
    "countWord(\"Hi my name is Matheus\")"
   ]
  },
  {
   "cell_type": "code",
   "execution_count": 17,
   "metadata": {
    "collapsed": true
   },
   "outputs": [],
   "source": [
    "nyt['CountWord']=nyt['Title'].apply(countWord)"
   ]
  },
  {
   "cell_type": "code",
   "execution_count": 18,
   "metadata": {},
   "outputs": [
    {
     "data": {
      "text/html": [
       "<div>\n",
       "<style>\n",
       "    .dataframe thead tr:only-child th {\n",
       "        text-align: right;\n",
       "    }\n",
       "\n",
       "    .dataframe thead th {\n",
       "        text-align: left;\n",
       "    }\n",
       "\n",
       "    .dataframe tbody tr th {\n",
       "        vertical-align: top;\n",
       "    }\n",
       "</style>\n",
       "<table border=\"1\" class=\"dataframe\">\n",
       "  <thead>\n",
       "    <tr style=\"text-align: right;\">\n",
       "      <th></th>\n",
       "      <th>Title</th>\n",
       "      <th>CountWord</th>\n",
       "    </tr>\n",
       "  </thead>\n",
       "  <tbody>\n",
       "    <tr>\n",
       "      <th>0</th>\n",
       "      <td>Nation's Smaller Jails Struggle To Cope With S...</td>\n",
       "      <td>10</td>\n",
       "    </tr>\n",
       "    <tr>\n",
       "      <th>1</th>\n",
       "      <td>Dancing (and Kissing) In the New Year</td>\n",
       "      <td>7</td>\n",
       "    </tr>\n",
       "    <tr>\n",
       "      <th>2</th>\n",
       "      <td>Forbes's Silver Bullet for the Nation's Malaise</td>\n",
       "      <td>7</td>\n",
       "    </tr>\n",
       "    <tr>\n",
       "      <th>3</th>\n",
       "      <td>Up at Last, Bridge to Bosnia Is Swaying Gatewa...</td>\n",
       "      <td>11</td>\n",
       "    </tr>\n",
       "    <tr>\n",
       "      <th>4</th>\n",
       "      <td>2 SIDES IN SENATE DISAGREE ON PLAN TO END FURL...</td>\n",
       "      <td>10</td>\n",
       "    </tr>\n",
       "  </tbody>\n",
       "</table>\n",
       "</div>"
      ],
      "text/plain": [
       "                                               Title  CountWord\n",
       "0  Nation's Smaller Jails Struggle To Cope With S...         10\n",
       "1             Dancing (and Kissing) In the New Year           7\n",
       "2   Forbes's Silver Bullet for the Nation's Malaise           7\n",
       "3  Up at Last, Bridge to Bosnia Is Swaying Gatewa...         11\n",
       "4  2 SIDES IN SENATE DISAGREE ON PLAN TO END FURL...         10"
      ]
     },
     "execution_count": 18,
     "metadata": {},
     "output_type": "execute_result"
    }
   ],
   "source": [
    "nyt[['Title','CountWord']].head()"
   ]
  },
  {
   "cell_type": "code",
   "execution_count": 20,
   "metadata": {},
   "outputs": [
    {
     "data": {
      "text/plain": [
       "8     5337\n",
       "9     4762\n",
       "7     4410\n",
       "10    3346\n",
       "6     3126\n",
       "11    1913\n",
       "5     1818\n",
       "4     1336\n",
       "12    1064\n",
       "3     1051\n",
       "13     688\n",
       "14     573\n",
       "2      446\n",
       "15     404\n",
       "16     275\n",
       "17     187\n",
       "18      93\n",
       "1       81\n",
       "19      53\n",
       "20      24\n",
       "21      14\n",
       "22      10\n",
       "23       8\n",
       "24       4\n",
       "25       4\n",
       "42       3\n",
       "27       2\n",
       "46       1\n",
       "39       1\n",
       "Name: CountWord, dtype: int64"
      ]
     },
     "execution_count": 20,
     "metadata": {},
     "output_type": "execute_result"
    }
   ],
   "source": [
    "nyt['CountWord'].value_counts()"
   ]
  },
  {
   "cell_type": "code",
   "execution_count": 171,
   "metadata": {},
   "outputs": [
    {
     "data": {
      "text/plain": [
       "19    5456\n",
       "16    3919\n",
       "20    3203\n",
       "12    1882\n",
       "3     1664\n",
       "15    1066\n",
       "6      820\n",
       "2      817\n",
       "1      781\n",
       "29     768\n",
       "5      675\n",
       "24     620\n",
       "17     616\n",
       "28     587\n",
       "10     517\n",
       "26     409\n",
       "14     364\n",
       "7      325\n",
       "31     274\n",
       "8      272\n",
       "13     242\n",
       "21     231\n",
       "18     221\n",
       "30     207\n",
       "4      154\n",
       "99     106\n",
       "27     106\n",
       "Name: Topic_2digit, dtype: int64"
      ]
     },
     "execution_count": 171,
     "metadata": {},
     "output_type": "execute_result"
    }
   ],
   "source": [
    "b = nyt[nyt['CountWord'] > 5]\n",
    "b['Topic_2digit'].value_counts()\n"
   ]
  },
  {
   "cell_type": "code",
   "execution_count": 64,
   "metadata": {
    "collapsed": true
   },
   "outputs": [],
   "source": [
    "test = nyt[nyt['Topic_2digit'] == 19]\n"
   ]
  },
  {
   "cell_type": "code",
   "execution_count": 68,
   "metadata": {
    "collapsed": true
   },
   "outputs": [],
   "source": [
    "t1 = test.sample(129, replace=False)"
   ]
  },
  {
   "cell_type": "code",
   "execution_count": 70,
   "metadata": {
    "collapsed": true
   },
   "outputs": [],
   "source": [
    "t2 = t1[['Title', 'Topic_2digit']]"
   ]
  },
  {
   "cell_type": "code",
   "execution_count": 71,
   "metadata": {},
   "outputs": [
    {
     "data": {
      "text/html": [
       "<div>\n",
       "<style>\n",
       "    .dataframe thead tr:only-child th {\n",
       "        text-align: right;\n",
       "    }\n",
       "\n",
       "    .dataframe thead th {\n",
       "        text-align: left;\n",
       "    }\n",
       "\n",
       "    .dataframe tbody tr th {\n",
       "        vertical-align: top;\n",
       "    }\n",
       "</style>\n",
       "<table border=\"1\" class=\"dataframe\">\n",
       "  <thead>\n",
       "    <tr style=\"text-align: right;\">\n",
       "      <th></th>\n",
       "      <th>Title</th>\n",
       "      <th>Topic_2digit</th>\n",
       "    </tr>\n",
       "  </thead>\n",
       "  <tbody>\n",
       "    <tr>\n",
       "      <th>27269</th>\n",
       "      <td>SUICIDE BOMBER KILLS 22 IN ATTACK AT AN IRAQ BANK</td>\n",
       "      <td>19</td>\n",
       "    </tr>\n",
       "    <tr>\n",
       "      <th>30913</th>\n",
       "      <td>Saudis Give U.S. A Grim What If</td>\n",
       "      <td>19</td>\n",
       "    </tr>\n",
       "    <tr>\n",
       "      <th>7152</th>\n",
       "      <td>Asia Feels Strain Most at Society's Margins</td>\n",
       "      <td>19</td>\n",
       "    </tr>\n",
       "    <tr>\n",
       "      <th>11290</th>\n",
       "      <td>THE ELITE'S CHOICE WINS HUGE VICTORY IN MEXICO...</td>\n",
       "      <td>19</td>\n",
       "    </tr>\n",
       "    <tr>\n",
       "      <th>11856</th>\n",
       "      <td>CHILEAN SOCIALIST NARROWLY ELECTED TO THE PRES...</td>\n",
       "      <td>19</td>\n",
       "    </tr>\n",
       "  </tbody>\n",
       "</table>\n",
       "</div>"
      ],
      "text/plain": [
       "                                                   Title  Topic_2digit\n",
       "27269  SUICIDE BOMBER KILLS 22 IN ATTACK AT AN IRAQ BANK            19\n",
       "30913                    Saudis Give U.S. A Grim What If            19\n",
       "7152         Asia Feels Strain Most at Society's Margins            19\n",
       "11290  THE ELITE'S CHOICE WINS HUGE VICTORY IN MEXICO...            19\n",
       "11856  CHILEAN SOCIALIST NARROWLY ELECTED TO THE PRES...            19"
      ]
     },
     "execution_count": 71,
     "metadata": {},
     "output_type": "execute_result"
    }
   ],
   "source": [
    "t2.head()"
   ]
  },
  {
   "cell_type": "code",
   "execution_count": 77,
   "metadata": {
    "collapsed": true
   },
   "outputs": [],
   "source": [
    "def reverse_index(dataset):\n",
    "    dataset = dataset.reindex(index=dataset.index[::-1])\n",
    "    dataset = dataset.reset_index()\n",
    "    dataset = dataset.drop('index',1)\n",
    "    return dataset"
   ]
  },
  {
   "cell_type": "code",
   "execution_count": 81,
   "metadata": {
    "collapsed": true
   },
   "outputs": [],
   "source": [
    "t2 = reverse_index(t2)"
   ]
  },
  {
   "cell_type": "code",
   "execution_count": 83,
   "metadata": {},
   "outputs": [
    {
     "data": {
      "text/html": [
       "<div>\n",
       "<style>\n",
       "    .dataframe thead tr:only-child th {\n",
       "        text-align: right;\n",
       "    }\n",
       "\n",
       "    .dataframe thead th {\n",
       "        text-align: left;\n",
       "    }\n",
       "\n",
       "    .dataframe tbody tr th {\n",
       "        vertical-align: top;\n",
       "    }\n",
       "</style>\n",
       "<table border=\"1\" class=\"dataframe\">\n",
       "  <thead>\n",
       "    <tr style=\"text-align: right;\">\n",
       "      <th></th>\n",
       "      <th>Title</th>\n",
       "      <th>Topic_2digit</th>\n",
       "    </tr>\n",
       "  </thead>\n",
       "  <tbody>\n",
       "    <tr>\n",
       "      <th>0</th>\n",
       "      <td>SUICIDE BOMBER KILLS 22 IN ATTACK AT AN IRAQ BANK</td>\n",
       "      <td>19</td>\n",
       "    </tr>\n",
       "    <tr>\n",
       "      <th>1</th>\n",
       "      <td>Saudis Give U.S. A Grim What If</td>\n",
       "      <td>19</td>\n",
       "    </tr>\n",
       "    <tr>\n",
       "      <th>2</th>\n",
       "      <td>Asia Feels Strain Most at Society's Margins</td>\n",
       "      <td>19</td>\n",
       "    </tr>\n",
       "    <tr>\n",
       "      <th>3</th>\n",
       "      <td>THE ELITE'S CHOICE WINS HUGE VICTORY IN MEXICO...</td>\n",
       "      <td>19</td>\n",
       "    </tr>\n",
       "    <tr>\n",
       "      <th>4</th>\n",
       "      <td>CHILEAN SOCIALIST NARROWLY ELECTED TO THE PRES...</td>\n",
       "      <td>19</td>\n",
       "    </tr>\n",
       "  </tbody>\n",
       "</table>\n",
       "</div>"
      ],
      "text/plain": [
       "                                               Title  Topic_2digit\n",
       "0  SUICIDE BOMBER KILLS 22 IN ATTACK AT AN IRAQ BANK            19\n",
       "1                    Saudis Give U.S. A Grim What If            19\n",
       "2        Asia Feels Strain Most at Society's Margins            19\n",
       "3  THE ELITE'S CHOICE WINS HUGE VICTORY IN MEXICO...            19\n",
       "4  CHILEAN SOCIALIST NARROWLY ELECTED TO THE PRES...            19"
      ]
     },
     "execution_count": 83,
     "metadata": {},
     "output_type": "execute_result"
    }
   ],
   "source": [
    "t2.head()"
   ]
  },
  {
   "cell_type": "code",
   "execution_count": 94,
   "metadata": {
    "collapsed": true
   },
   "outputs": [],
   "source": [
    "df = pd.DataFrame(columns=['Title', 'Topic'])\n",
    "for i in range(5):\n",
    "    df.loc[len(df)] = [t2['Title'][i], t2['Topic_2digit'][i]]"
   ]
  },
  {
   "cell_type": "code",
   "execution_count": 95,
   "metadata": {},
   "outputs": [
    {
     "data": {
      "text/html": [
       "<div>\n",
       "<style>\n",
       "    .dataframe thead tr:only-child th {\n",
       "        text-align: right;\n",
       "    }\n",
       "\n",
       "    .dataframe thead th {\n",
       "        text-align: left;\n",
       "    }\n",
       "\n",
       "    .dataframe tbody tr th {\n",
       "        vertical-align: top;\n",
       "    }\n",
       "</style>\n",
       "<table border=\"1\" class=\"dataframe\">\n",
       "  <thead>\n",
       "    <tr style=\"text-align: right;\">\n",
       "      <th></th>\n",
       "      <th>Title</th>\n",
       "      <th>Topic</th>\n",
       "    </tr>\n",
       "  </thead>\n",
       "  <tbody>\n",
       "    <tr>\n",
       "      <th>0</th>\n",
       "      <td>SUICIDE BOMBER KILLS 22 IN ATTACK AT AN IRAQ BANK</td>\n",
       "      <td>19</td>\n",
       "    </tr>\n",
       "    <tr>\n",
       "      <th>1</th>\n",
       "      <td>Saudis Give U.S. A Grim What If</td>\n",
       "      <td>19</td>\n",
       "    </tr>\n",
       "    <tr>\n",
       "      <th>2</th>\n",
       "      <td>Asia Feels Strain Most at Society's Margins</td>\n",
       "      <td>19</td>\n",
       "    </tr>\n",
       "    <tr>\n",
       "      <th>3</th>\n",
       "      <td>THE ELITE'S CHOICE WINS HUGE VICTORY IN MEXICO...</td>\n",
       "      <td>19</td>\n",
       "    </tr>\n",
       "    <tr>\n",
       "      <th>4</th>\n",
       "      <td>CHILEAN SOCIALIST NARROWLY ELECTED TO THE PRES...</td>\n",
       "      <td>19</td>\n",
       "    </tr>\n",
       "  </tbody>\n",
       "</table>\n",
       "</div>"
      ],
      "text/plain": [
       "                                               Title Topic\n",
       "0  SUICIDE BOMBER KILLS 22 IN ATTACK AT AN IRAQ BANK    19\n",
       "1                    Saudis Give U.S. A Grim What If    19\n",
       "2        Asia Feels Strain Most at Society's Margins    19\n",
       "3  THE ELITE'S CHOICE WINS HUGE VICTORY IN MEXICO...    19\n",
       "4  CHILEAN SOCIALIST NARROWLY ELECTED TO THE PRES...    19"
      ]
     },
     "execution_count": 95,
     "metadata": {},
     "output_type": "execute_result"
    }
   ],
   "source": [
    "df"
   ]
  },
  {
   "cell_type": "code",
   "execution_count": 172,
   "metadata": {
    "collapsed": true
   },
   "outputs": [],
   "source": [
    "def megafunction(df, coef):\n",
    "    aux0 = nyt[nyt['CountWord'] > 5]\n",
    "    aux1 = aux0[aux0['Topic_2digit'] == coef]\n",
    "    aux2 = aux1.sample(106, replace=False)\n",
    "    aux3 = aux2[['Title', 'Topic_2digit']]\n",
    "    aux3 = reverse_index(aux3)\n",
    "    for i in range(106):\n",
    "        df.loc[len(df)] = [aux3['Title'][i], aux3['Topic_2digit'][i]]\n"
   ]
  },
  {
   "cell_type": "code",
   "execution_count": 102,
   "metadata": {
    "collapsed": true
   },
   "outputs": [],
   "source": [
    "df = pd.DataFrame(columns=['Title', 'Topic'])\n",
    "megafunction(df, 1)"
   ]
  },
  {
   "cell_type": "code",
   "execution_count": 104,
   "metadata": {
    "collapsed": true
   },
   "outputs": [],
   "source": [
    "megafunction(df, 2)"
   ]
  },
  {
   "cell_type": "code",
   "execution_count": 106,
   "metadata": {
    "collapsed": true
   },
   "outputs": [],
   "source": [
    "megafunction(df,3)"
   ]
  },
  {
   "cell_type": "code",
   "execution_count": 107,
   "metadata": {
    "collapsed": true
   },
   "outputs": [],
   "source": [
    "megafunction(df,4)"
   ]
  },
  {
   "cell_type": "code",
   "execution_count": 173,
   "metadata": {
    "collapsed": true
   },
   "outputs": [],
   "source": [
    "nyt_processed = pd.DataFrame(columns=['Title', 'Topic_2digit'])\n",
    "\n",
    "megafunction(nyt_processed,1)\n",
    "megafunction(nyt_processed,2)\n",
    "megafunction(nyt_processed,3)\n",
    "megafunction(nyt_processed,4)\n",
    "megafunction(nyt_processed,5)\n",
    "megafunction(nyt_processed,6)\n",
    "megafunction(nyt_processed,7)\n",
    "megafunction(nyt_processed,8)\n",
    "megafunction(nyt_processed,10)\n",
    "megafunction(nyt_processed,12)\n",
    "megafunction(nyt_processed,13)\n",
    "megafunction(nyt_processed,14)\n",
    "megafunction(nyt_processed,15)\n",
    "megafunction(nyt_processed,16)\n",
    "megafunction(nyt_processed,17)\n",
    "megafunction(nyt_processed,18)\n",
    "megafunction(nyt_processed,19)\n",
    "megafunction(nyt_processed,20)\n",
    "megafunction(nyt_processed,21)\n",
    "megafunction(nyt_processed,24)\n",
    "megafunction(nyt_processed,26)\n",
    "megafunction(nyt_processed,27)\n",
    "megafunction(nyt_processed,28)\n",
    "megafunction(nyt_processed,29)\n",
    "megafunction(nyt_processed,30)\n",
    "megafunction(nyt_processed,31)\n",
    "megafunction(nyt_processed,99)"
   ]
  },
  {
   "cell_type": "code",
   "execution_count": 174,
   "metadata": {},
   "outputs": [
    {
     "data": {
      "text/plain": [
       "99    106\n",
       "15    106\n",
       "2     106\n",
       "3     106\n",
       "4     106\n",
       "5     106\n",
       "6     106\n",
       "7     106\n",
       "8     106\n",
       "10    106\n",
       "12    106\n",
       "13    106\n",
       "14    106\n",
       "16    106\n",
       "31    106\n",
       "17    106\n",
       "18    106\n",
       "19    106\n",
       "20    106\n",
       "21    106\n",
       "24    106\n",
       "26    106\n",
       "27    106\n",
       "28    106\n",
       "29    106\n",
       "30    106\n",
       "1     106\n",
       "Name: Topic_2digit, dtype: int64"
      ]
     },
     "execution_count": 174,
     "metadata": {},
     "output_type": "execute_result"
    }
   ],
   "source": [
    "nyt_processed['Topic_2digit'].value_counts()\n"
   ]
  },
  {
   "cell_type": "code",
   "execution_count": 175,
   "metadata": {
    "collapsed": true
   },
   "outputs": [],
   "source": [
    "nyt_processed.describe()\n",
    "nyt_processed['Topic_2digit'] = nyt_processed['Topic_2digit'].astype(int) \n"
   ]
  },
  {
   "cell_type": "code",
   "execution_count": 176,
   "metadata": {},
   "outputs": [
    {
     "name": "stdout",
     "output_type": "stream",
     "text": [
      "<class 'pandas.core.frame.DataFrame'>\n",
      "Int64Index: 2862 entries, 0 to 2861\n",
      "Data columns (total 2 columns):\n",
      "Title           2862 non-null object\n",
      "Topic_2digit    2862 non-null int32\n",
      "dtypes: int32(1), object(1)\n",
      "memory usage: 55.9+ KB\n"
     ]
    }
   ],
   "source": [
    "nyt_processed.info()"
   ]
  },
  {
   "cell_type": "code",
   "execution_count": null,
   "metadata": {
    "collapsed": true
   },
   "outputs": [],
   "source": []
  },
  {
   "cell_type": "code",
   "execution_count": 137,
   "metadata": {
    "collapsed": true
   },
   "outputs": [],
   "source": [
    "from sklearn.feature_extraction.text import CountVectorizer"
   ]
  },
  {
   "cell_type": "code",
   "execution_count": 138,
   "metadata": {
    "collapsed": true
   },
   "outputs": [],
   "source": [
    "bow_transformer = CountVectorizer(analyzer=text_process).fit(nyt_processed['Title'])"
   ]
  },
  {
   "cell_type": "code",
   "execution_count": 139,
   "metadata": {},
   "outputs": [
    {
     "name": "stdout",
     "output_type": "stream",
     "text": [
      "8126\n"
     ]
    }
   ],
   "source": [
    "print(len(bow_transformer.vocabulary_))"
   ]
  },
  {
   "cell_type": "code",
   "execution_count": 140,
   "metadata": {
    "collapsed": true
   },
   "outputs": [],
   "source": [
    "nyt_bow = bow_transformer.transform(nyt_processed['Title'])"
   ]
  },
  {
   "cell_type": "code",
   "execution_count": 141,
   "metadata": {},
   "outputs": [
    {
     "name": "stdout",
     "output_type": "stream",
     "text": [
      "Shape of Sparse Matrix:  (3483, 8126)\n"
     ]
    }
   ],
   "source": [
    "print('Shape of Sparse Matrix: ', nyt_bow.shape)"
   ]
  },
  {
   "cell_type": "code",
   "execution_count": 142,
   "metadata": {},
   "outputs": [
    {
     "data": {
      "text/plain": [
       "20360"
      ]
     },
     "execution_count": 142,
     "metadata": {},
     "output_type": "execute_result"
    }
   ],
   "source": [
    "nyt_bow.nnz"
   ]
  },
  {
   "cell_type": "code",
   "execution_count": 143,
   "metadata": {},
   "outputs": [
    {
     "name": "stdout",
     "output_type": "stream",
     "text": [
      "sparsity: 0.07193619810409253\n"
     ]
    }
   ],
   "source": [
    "sparsity = (100.0 * nyt_bow.nnz / (nyt_bow.shape[0] * nyt_bow.shape[1]))\n",
    "print('sparsity: {}'.format((sparsity)))"
   ]
  },
  {
   "cell_type": "code",
   "execution_count": 144,
   "metadata": {
    "collapsed": true
   },
   "outputs": [],
   "source": [
    "from sklearn.feature_extraction.text import TfidfTransformer"
   ]
  },
  {
   "cell_type": "code",
   "execution_count": 145,
   "metadata": {
    "collapsed": true
   },
   "outputs": [],
   "source": [
    "tfidf_transformer = TfidfTransformer().fit(nyt_bow)"
   ]
  },
  {
   "cell_type": "code",
   "execution_count": 146,
   "metadata": {
    "collapsed": true
   },
   "outputs": [],
   "source": [
    "nyt_tfidf = tfidf_transformer.transform(nyt_bow)"
   ]
  },
  {
   "cell_type": "code",
   "execution_count": 147,
   "metadata": {
    "collapsed": true
   },
   "outputs": [],
   "source": [
    "from sklearn.naive_bayes import MultinomialNB"
   ]
  },
  {
   "cell_type": "code",
   "execution_count": 151,
   "metadata": {
    "collapsed": true
   },
   "outputs": [],
   "source": [
    "nyt_model = MultinomialNB().fit(nyt_tfidf,nyt_processed['Topic_2digit'].astype(int))\n"
   ]
  },
  {
   "cell_type": "code",
   "execution_count": 152,
   "metadata": {
    "collapsed": true
   },
   "outputs": [],
   "source": [
    "all_pred = nyt_model.predict(nyt_tfidf)"
   ]
  },
  {
   "cell_type": "code",
   "execution_count": 153,
   "metadata": {
    "collapsed": true
   },
   "outputs": [],
   "source": [
    "from sklearn.model_selection import train_test_split"
   ]
  },
  {
   "cell_type": "code",
   "execution_count": 177,
   "metadata": {
    "collapsed": true
   },
   "outputs": [],
   "source": [
    "nyt_train,nyt_test,topic_train,topic_test = train_test_split(nyt_processed['Title'], nyt_processed['Topic_2digit'], test_size=0.3)"
   ]
  },
  {
   "cell_type": "code",
   "execution_count": 178,
   "metadata": {
    "collapsed": true
   },
   "outputs": [],
   "source": [
    "from sklearn.pipeline import Pipeline"
   ]
  },
  {
   "cell_type": "code",
   "execution_count": 179,
   "metadata": {
    "collapsed": true
   },
   "outputs": [],
   "source": [
    "from sklearn.ensemble import RandomForestClassifier"
   ]
  },
  {
   "cell_type": "code",
   "execution_count": 180,
   "metadata": {
    "collapsed": true
   },
   "outputs": [],
   "source": [
    "pipeline = Pipeline([\n",
    "    ('bow',CountVectorizer(analyzer=text_process)),\n",
    "    ('tfidf', TfidfTransformer()),\n",
    "    ('classifier', MultinomialNB())\n",
    "])"
   ]
  },
  {
   "cell_type": "code",
   "execution_count": 183,
   "metadata": {},
   "outputs": [
    {
     "data": {
      "text/plain": [
       "Pipeline(memory=None,\n",
       "     steps=[('bow', CountVectorizer(analyzer=<function text_process at 0x000000000DD02A60>,\n",
       "        binary=False, decode_error='strict', dtype=<class 'numpy.int64'>,\n",
       "        encoding='utf-8', input='content', lowercase=True, max_df=1.0,\n",
       "        max_features=None, min_df=1, ngram_range=(1, 1), preprocesso...f=False, use_idf=True)), ('classifier', MultinomialNB(alpha=1.0, class_prior=None, fit_prior=True))])"
      ]
     },
     "execution_count": 183,
     "metadata": {},
     "output_type": "execute_result"
    }
   ],
   "source": [
    "pipeline.fit(nyt_train, topic_train)"
   ]
  },
  {
   "cell_type": "code",
   "execution_count": 184,
   "metadata": {
    "collapsed": true
   },
   "outputs": [],
   "source": [
    "predictions = pipeline.predict(nyt_test)"
   ]
  },
  {
   "cell_type": "code",
   "execution_count": 50,
   "metadata": {
    "collapsed": true
   },
   "outputs": [],
   "source": [
    "a = pd.Series(predictions)\n",
    "    "
   ]
  },
  {
   "cell_type": "code",
   "execution_count": 52,
   "metadata": {},
   "outputs": [
    {
     "data": {
      "text/plain": [
       "19    5192\n",
       "16    1807\n",
       "20    1699\n",
       "3      193\n",
       "12     162\n",
       "29     146\n",
       "1       38\n",
       "15      37\n",
       "6       19\n",
       "28       4\n",
       "2        4\n",
       "17       4\n",
       "24       4\n",
       "10       2\n",
       "dtype: int64"
      ]
     },
     "execution_count": 52,
     "metadata": {},
     "output_type": "execute_result"
    }
   ],
   "source": [
    "a.value_counts()"
   ]
  },
  {
   "cell_type": "code",
   "execution_count": 185,
   "metadata": {
    "collapsed": true
   },
   "outputs": [],
   "source": [
    "from sklearn.metrics import classification_report"
   ]
  },
  {
   "cell_type": "code",
   "execution_count": 186,
   "metadata": {},
   "outputs": [
    {
     "name": "stdout",
     "output_type": "stream",
     "text": [
      "             precision    recall  f1-score   support\n",
      "\n",
      "          1       0.46      0.33      0.39        36\n",
      "          2       0.42      0.12      0.19        41\n",
      "          3       0.45      0.26      0.33        35\n",
      "          4       0.78      0.40      0.53        35\n",
      "          5       0.37      0.31      0.34        32\n",
      "          6       0.44      0.68      0.53        25\n",
      "          7       0.41      0.24      0.30        29\n",
      "          8       0.34      0.52      0.41        31\n",
      "         10       0.34      0.34      0.34        29\n",
      "         12       0.29      0.24      0.26        33\n",
      "         13       0.29      0.69      0.41        26\n",
      "         14       0.12      0.39      0.18        23\n",
      "         15       0.42      0.24      0.30        34\n",
      "         16       0.33      0.61      0.43        28\n",
      "         17       0.61      0.31      0.41        36\n",
      "         18       0.40      0.68      0.50        28\n",
      "         19       0.16      0.10      0.12        29\n",
      "         20       0.41      0.36      0.39        33\n",
      "         21       0.32      0.28      0.30        32\n",
      "         24       0.42      0.59      0.49        32\n",
      "         26       0.50      0.50      0.50        30\n",
      "         27       0.60      0.79      0.68        34\n",
      "         28       0.18      0.21      0.20        28\n",
      "         29       0.70      0.37      0.48        38\n",
      "         30       0.79      0.84      0.81        31\n",
      "         31       0.55      0.47      0.51        34\n",
      "         99       0.11      0.03      0.04        37\n",
      "\n",
      "avg / total       0.42      0.39      0.38       859\n",
      "\n"
     ]
    }
   ],
   "source": [
    "print(classification_report(topic_test,predictions))"
   ]
  },
  {
   "cell_type": "code",
   "execution_count": 51,
   "metadata": {
    "collapsed": true
   },
   "outputs": [],
   "source": [
    "pipeline2 = Pipeline([\n",
    "    ('bow',CountVectorizer(analyzer=text_process)),\n",
    "    ('tfidf', TfidfTransformer()),\n",
    "    ('classifier', RandomForestClassifier())\n",
    "])"
   ]
  },
  {
   "cell_type": "code",
   "execution_count": 52,
   "metadata": {},
   "outputs": [
    {
     "data": {
      "text/plain": [
       "Pipeline(memory=None,\n",
       "     steps=[('bow', CountVectorizer(analyzer=<function text_process at 0x000000000D5942F0>,\n",
       "        binary=False, decode_error='strict', dtype=<class 'numpy.int64'>,\n",
       "        encoding='utf-8', input='content', lowercase=True, max_df=1.0,\n",
       "        max_features=None, min_df=1, ngram_range=(1, 1), preprocesso...n_jobs=1,\n",
       "            oob_score=False, random_state=None, verbose=0,\n",
       "            warm_start=False))])"
      ]
     },
     "execution_count": 52,
     "metadata": {},
     "output_type": "execute_result"
    }
   ],
   "source": [
    "pipeline2.fit(nyt_train, topic_train)"
   ]
  },
  {
   "cell_type": "code",
   "execution_count": 53,
   "metadata": {
    "collapsed": true
   },
   "outputs": [],
   "source": [
    "predictions2 = pipeline.predict(nyt_test)"
   ]
  },
  {
   "cell_type": "code",
   "execution_count": 54,
   "metadata": {},
   "outputs": [
    {
     "name": "stdout",
     "output_type": "stream",
     "text": [
      "             precision    recall  f1-score   support\n",
      "\n",
      "          1       0.83      0.12      0.21       298\n",
      "          2       1.00      0.02      0.04       272\n",
      "          3       0.83      0.29      0.43       538\n",
      "          4       0.00      0.00      0.00        59\n",
      "          5       1.00      0.00      0.01       222\n",
      "          6       0.91      0.04      0.07       268\n",
      "          7       0.00      0.00      0.00       102\n",
      "          8       0.00      0.00      0.00        91\n",
      "         10       1.00      0.01      0.01       189\n",
      "         12       0.77      0.20      0.32       636\n",
      "         13       0.00      0.00      0.00        72\n",
      "         14       0.00      0.00      0.00       103\n",
      "         15       0.82      0.06      0.12       368\n",
      "         16       0.50      0.68      0.58      1345\n",
      "         17       1.00      0.01      0.02       218\n",
      "         18       0.00      0.00      0.00        71\n",
      "         19       0.33      0.89      0.48      1946\n",
      "         20       0.52      0.76      0.62      1181\n",
      "         21       0.00      0.00      0.00        79\n",
      "         24       1.00      0.02      0.04       201\n",
      "         26       0.00      0.00      0.00       165\n",
      "         27       0.00      0.00      0.00        37\n",
      "         28       1.00      0.01      0.02       240\n",
      "         29       0.92      0.36      0.52       369\n",
      "         30       0.00      0.00      0.00        81\n",
      "         31       0.00      0.00      0.00        98\n",
      "         99       0.00      0.00      0.00        62\n",
      "\n",
      "avg / total       0.57      0.43      0.35      9311\n",
      "\n"
     ]
    },
    {
     "name": "stderr",
     "output_type": "stream",
     "text": [
      "C:\\Users\\Matheus\\Anaconda3\\lib\\site-packages\\sklearn\\metrics\\classification.py:1135: UndefinedMetricWarning: Precision and F-score are ill-defined and being set to 0.0 in labels with no predicted samples.\n",
      "  'precision', 'predicted', average, warn_for)\n"
     ]
    }
   ],
   "source": [
    "print(classification_report(topic_test,predictions2))"
   ]
  },
  {
   "cell_type": "code",
   "execution_count": 55,
   "metadata": {},
   "outputs": [
    {
     "data": {
      "text/html": [
       "<div>\n",
       "<style>\n",
       "    .dataframe thead tr:only-child th {\n",
       "        text-align: right;\n",
       "    }\n",
       "\n",
       "    .dataframe thead th {\n",
       "        text-align: left;\n",
       "    }\n",
       "\n",
       "    .dataframe tbody tr th {\n",
       "        vertical-align: top;\n",
       "    }\n",
       "</style>\n",
       "<table border=\"1\" class=\"dataframe\">\n",
       "  <thead>\n",
       "    <tr style=\"text-align: right;\">\n",
       "      <th></th>\n",
       "      <th>Article_ID</th>\n",
       "      <th>Topic_6digit</th>\n",
       "      <th>Topic_4digit</th>\n",
       "      <th>Topic_2digit</th>\n",
       "      <th>War on Terror</th>\n",
       "      <th>Katrina</th>\n",
       "      <th>Israel/Palestine</th>\n",
       "      <th>Immigration</th>\n",
       "      <th>Presidential Elections</th>\n",
       "      <th>Clinton Impeachment</th>\n",
       "      <th>Enron</th>\n",
       "      <th>Darfur</th>\n",
       "      <th>Race/Ethnicity</th>\n",
       "      <th>Schiavo</th>\n",
       "    </tr>\n",
       "  </thead>\n",
       "  <tbody>\n",
       "    <tr>\n",
       "      <th>count</th>\n",
       "      <td>31034.000000</td>\n",
       "      <td>31034.000000</td>\n",
       "      <td>31034.000000</td>\n",
       "      <td>31034.000000</td>\n",
       "      <td>31034.000000</td>\n",
       "      <td>31034.000000</td>\n",
       "      <td>31034.000000</td>\n",
       "      <td>31034.000000</td>\n",
       "      <td>31034.000000</td>\n",
       "      <td>31034.000000</td>\n",
       "      <td>31034.000000</td>\n",
       "      <td>31034.000000</td>\n",
       "      <td>31034.000000</td>\n",
       "      <td>31034.000000</td>\n",
       "    </tr>\n",
       "    <tr>\n",
       "      <th>mean</th>\n",
       "      <td>15517.500000</td>\n",
       "      <td>164152.898660</td>\n",
       "      <td>1641.543855</td>\n",
       "      <td>16.279532</td>\n",
       "      <td>0.136205</td>\n",
       "      <td>0.005478</td>\n",
       "      <td>0.034253</td>\n",
       "      <td>0.012341</td>\n",
       "      <td>0.052459</td>\n",
       "      <td>0.014307</td>\n",
       "      <td>0.005993</td>\n",
       "      <td>0.000838</td>\n",
       "      <td>0.014951</td>\n",
       "      <td>0.000741</td>\n",
       "    </tr>\n",
       "    <tr>\n",
       "      <th>std</th>\n",
       "      <td>8958.888463</td>\n",
       "      <td>96256.828146</td>\n",
       "      <td>962.523270</td>\n",
       "      <td>9.661223</td>\n",
       "      <td>0.343012</td>\n",
       "      <td>0.073811</td>\n",
       "      <td>0.181881</td>\n",
       "      <td>0.110406</td>\n",
       "      <td>0.222954</td>\n",
       "      <td>0.118755</td>\n",
       "      <td>0.077186</td>\n",
       "      <td>0.028933</td>\n",
       "      <td>0.121360</td>\n",
       "      <td>0.027214</td>\n",
       "    </tr>\n",
       "    <tr>\n",
       "      <th>min</th>\n",
       "      <td>1.000000</td>\n",
       "      <td>10000.000000</td>\n",
       "      <td>100.000000</td>\n",
       "      <td>1.000000</td>\n",
       "      <td>0.000000</td>\n",
       "      <td>0.000000</td>\n",
       "      <td>0.000000</td>\n",
       "      <td>0.000000</td>\n",
       "      <td>0.000000</td>\n",
       "      <td>0.000000</td>\n",
       "      <td>0.000000</td>\n",
       "      <td>0.000000</td>\n",
       "      <td>0.000000</td>\n",
       "      <td>0.000000</td>\n",
       "    </tr>\n",
       "    <tr>\n",
       "      <th>25%</th>\n",
       "      <td>7759.250000</td>\n",
       "      <td>120800.000000</td>\n",
       "      <td>1208.000000</td>\n",
       "      <td>12.000000</td>\n",
       "      <td>0.000000</td>\n",
       "      <td>0.000000</td>\n",
       "      <td>0.000000</td>\n",
       "      <td>0.000000</td>\n",
       "      <td>0.000000</td>\n",
       "      <td>0.000000</td>\n",
       "      <td>0.000000</td>\n",
       "      <td>0.000000</td>\n",
       "      <td>0.000000</td>\n",
       "      <td>0.000000</td>\n",
       "    </tr>\n",
       "    <tr>\n",
       "      <th>50%</th>\n",
       "      <td>15517.500000</td>\n",
       "      <td>170600.000000</td>\n",
       "      <td>1706.000000</td>\n",
       "      <td>17.000000</td>\n",
       "      <td>0.000000</td>\n",
       "      <td>0.000000</td>\n",
       "      <td>0.000000</td>\n",
       "      <td>0.000000</td>\n",
       "      <td>0.000000</td>\n",
       "      <td>0.000000</td>\n",
       "      <td>0.000000</td>\n",
       "      <td>0.000000</td>\n",
       "      <td>0.000000</td>\n",
       "      <td>0.000000</td>\n",
       "    </tr>\n",
       "    <tr>\n",
       "      <th>75%</th>\n",
       "      <td>23275.750000</td>\n",
       "      <td>201000.000000</td>\n",
       "      <td>2010.000000</td>\n",
       "      <td>20.000000</td>\n",
       "      <td>0.000000</td>\n",
       "      <td>0.000000</td>\n",
       "      <td>0.000000</td>\n",
       "      <td>0.000000</td>\n",
       "      <td>0.000000</td>\n",
       "      <td>0.000000</td>\n",
       "      <td>0.000000</td>\n",
       "      <td>0.000000</td>\n",
       "      <td>0.000000</td>\n",
       "      <td>0.000000</td>\n",
       "    </tr>\n",
       "    <tr>\n",
       "      <th>max</th>\n",
       "      <td>31034.000000</td>\n",
       "      <td>990000.000000</td>\n",
       "      <td>9900.000000</td>\n",
       "      <td>99.000000</td>\n",
       "      <td>1.000000</td>\n",
       "      <td>1.000000</td>\n",
       "      <td>1.000000</td>\n",
       "      <td>1.000000</td>\n",
       "      <td>1.000000</td>\n",
       "      <td>1.000000</td>\n",
       "      <td>1.000000</td>\n",
       "      <td>1.000000</td>\n",
       "      <td>1.000000</td>\n",
       "      <td>1.000000</td>\n",
       "    </tr>\n",
       "  </tbody>\n",
       "</table>\n",
       "</div>"
      ],
      "text/plain": [
       "         Article_ID   Topic_6digit  Topic_4digit  Topic_2digit  War on Terror  \\\n",
       "count  31034.000000   31034.000000  31034.000000  31034.000000   31034.000000   \n",
       "mean   15517.500000  164152.898660   1641.543855     16.279532       0.136205   \n",
       "std     8958.888463   96256.828146    962.523270      9.661223       0.343012   \n",
       "min        1.000000   10000.000000    100.000000      1.000000       0.000000   \n",
       "25%     7759.250000  120800.000000   1208.000000     12.000000       0.000000   \n",
       "50%    15517.500000  170600.000000   1706.000000     17.000000       0.000000   \n",
       "75%    23275.750000  201000.000000   2010.000000     20.000000       0.000000   \n",
       "max    31034.000000  990000.000000   9900.000000     99.000000       1.000000   \n",
       "\n",
       "            Katrina  Israel/Palestine   Immigration  Presidential Elections  \\\n",
       "count  31034.000000      31034.000000  31034.000000            31034.000000   \n",
       "mean       0.005478          0.034253      0.012341                0.052459   \n",
       "std        0.073811          0.181881      0.110406                0.222954   \n",
       "min        0.000000          0.000000      0.000000                0.000000   \n",
       "25%        0.000000          0.000000      0.000000                0.000000   \n",
       "50%        0.000000          0.000000      0.000000                0.000000   \n",
       "75%        0.000000          0.000000      0.000000                0.000000   \n",
       "max        1.000000          1.000000      1.000000                1.000000   \n",
       "\n",
       "       Clinton Impeachment         Enron        Darfur  Race/Ethnicity  \\\n",
       "count         31034.000000  31034.000000  31034.000000    31034.000000   \n",
       "mean              0.014307      0.005993      0.000838        0.014951   \n",
       "std               0.118755      0.077186      0.028933        0.121360   \n",
       "min               0.000000      0.000000      0.000000        0.000000   \n",
       "25%               0.000000      0.000000      0.000000        0.000000   \n",
       "50%               0.000000      0.000000      0.000000        0.000000   \n",
       "75%               0.000000      0.000000      0.000000        0.000000   \n",
       "max               1.000000      1.000000      1.000000        1.000000   \n",
       "\n",
       "            Schiavo  \n",
       "count  31034.000000  \n",
       "mean       0.000741  \n",
       "std        0.027214  \n",
       "min        0.000000  \n",
       "25%        0.000000  \n",
       "50%        0.000000  \n",
       "75%        0.000000  \n",
       "max        1.000000  "
      ]
     },
     "execution_count": 55,
     "metadata": {},
     "output_type": "execute_result"
    }
   ],
   "source": [
    "nyt.describe()"
   ]
  },
  {
   "cell_type": "code",
   "execution_count": 56,
   "metadata": {},
   "outputs": [
    {
     "data": {
      "text/plain": [
       "count                                    21723\n",
       "unique                                   21308\n",
       "top       CRISIS IN THE BALKANS: THE OVERVIEW;\n",
       "freq                                        30\n",
       "Name: Title, dtype: object"
      ]
     },
     "execution_count": 56,
     "metadata": {},
     "output_type": "execute_result"
    }
   ],
   "source": [
    "nyt_train.describe()"
   ]
  },
  {
   "cell_type": "code",
   "execution_count": 57,
   "metadata": {},
   "outputs": [
    {
     "data": {
      "text/plain": [
       "count    21723.000000\n",
       "mean        16.252359\n",
       "std          9.491754\n",
       "min          1.000000\n",
       "25%         12.000000\n",
       "50%         17.000000\n",
       "75%         20.000000\n",
       "max         99.000000\n",
       "Name: Topic_2digit, dtype: float64"
      ]
     },
     "execution_count": 57,
     "metadata": {},
     "output_type": "execute_result"
    }
   ],
   "source": [
    "topic_train.describe()"
   ]
  },
  {
   "cell_type": "code",
   "execution_count": 65,
   "metadata": {},
   "outputs": [
    {
     "data": {
      "text/plain": [
       "19    1946\n",
       "16    1345\n",
       "20    1181\n",
       "12     636\n",
       "3      538\n",
       "29     369\n",
       "15     368\n",
       "1      298\n",
       "2      272\n",
       "6      268\n",
       "28     240\n",
       "5      222\n",
       "17     218\n",
       "24     201\n",
       "10     189\n",
       "26     165\n",
       "14     103\n",
       "7      102\n",
       "31      98\n",
       "8       91\n",
       "30      81\n",
       "21      79\n",
       "13      72\n",
       "18      71\n",
       "99      62\n",
       "4       59\n",
       "27      37\n",
       "Name: Topic_2digit, dtype: int64"
      ]
     },
     "execution_count": 65,
     "metadata": {},
     "output_type": "execute_result"
    }
   ],
   "source": [
    "topic_test.value_counts()"
   ]
  },
  {
   "cell_type": "code",
   "execution_count": 66,
   "metadata": {},
   "outputs": [
    {
     "data": {
      "text/plain": [
       "BASEBALL;                                                                                      14\n",
       "CRISIS IN THE BALKANS: THE OVERVIEW;                                                           14\n",
       "INTERNATIONAL BUSINESS;                                                                        13\n",
       "TESTING OF A PRESIDENT: THE OVERVIEW;                                                          11\n",
       "CONFLICT IN THE BALKANS: THE OVERVIEW;                                                          6\n",
       "TESTING OF A PRESIDENT: THE PRESIDENT;                                                          5\n",
       " SALT LAKE 2002                                                                                 5\n",
       "THE MARKETS: Market Place;                                                                      5\n",
       "CRISIS IN THE BALKANS;                                                                          4\n",
       "NUCLEAR ANXIETY: THE OVERVIEW;                                                                  4\n",
       "TESTING OF A PRESIDENT: THE INVESTIGATION;                                                      4\n",
       "SPECIAL TODAY;                                                                                  4\n",
       "A Reminder                                                                                      4\n",
       "THE PRESIDENT UNDER FIRE: THE OVERVIEW;                                                         4\n",
       "MIDEAST ACCORD: THE OVERVIEW;                                                                   3\n",
       "OLYMPICS;                                                                                       3\n",
       "TESTING OF A PRESIDENT: NEWS ANALYSIS;                                                          3\n",
       "PRO FOOTBALL;                                                                                   3\n",
       "The Pulitzer Prizes                                                                             3\n",
       "Sports of The Times;                                                                            3\n",
       "THE MEDIA BUSINESS;                                                                             3\n",
       "THE MARKETS;                                                                                    3\n",
       "THE REPUBLICANS: THE OVERVIEW;                                                                  2\n",
       "THE MARKETS: STOCKS;                                                                            2\n",
       "THE 1998 CAMPAIGN: THE SENATE;                                                                  2\n",
       "AFTER THE ATTACKS: THE OVERVIEW;                                                                2\n",
       "PRO BASKETBALL;                                                                                 2\n",
       "CRISIS IN THE BALKANS: NATO;                                                                    2\n",
       "THE 2000 CAMPAIGN: THE TEXAS GOVERNOR;                                                          2\n",
       "ENRON'S MANY STRANDS                                                                            2\n",
       "                                                                                               ..\n",
       "View From Pataki's Garden: A Serene Campaign Strategy                                           1\n",
       "Tennessee Wins National Title                                                                   1\n",
       "COUNTING THE VOTE: DUVAL COUNTY;\\rDemocrats Rue Ballot Foul-Up In a 2nd County                  1\n",
       "BUSH REBUKES NORTH KOREA; U.S. SEEKS NEW U.N. SANCTIONS                                         1\n",
       "Cheney Ever More Powerful As Crucial Link to Congress                                           1\n",
       "Lindh Coerced After Capture, Lawyers Assert                                                     1\n",
       "Stocks Roar Back                                                                                1\n",
       "INQUIRY HEATS UP AS RENO EXAMINES PRESIDENT'S CALLS                                             1\n",
       " A Top Iraqi Captured                                                                           1\n",
       "Democrats Find Some Traction On Capitol Hill                                                    1\n",
       "Photo Gives Weight To Einstein's Thesis of Negative Gravity                                     1\n",
       "Attacks in 5 Iraqi Cities Leave More Than 100 Dead                                              1\n",
       "PRESIDENT OFFERS MEDICARE SAVINGS                                                               1\n",
       "Study Challenges Idea of PMS as Emotional Disorder                                              1\n",
       "A Case Study in Disaster For Tomorrow's Generals                                                1\n",
       "Pay to 2 Lobbyists by Public TV Is Investigated                                                 1\n",
       "Nature Ceded the Missouri to Man; Now Some Would Give It Back                                   1\n",
       "STATES PROPOSING SWEEPING CHANGE TO TRIM MEDICAID                                               1\n",
       "Day 1 Arouses Retailers' Hopes That Christmas Is on the Rebound                                 1\n",
       "MANEUVERS SHOW RUSSIAN RELIANCE ON NUCLEAR ARMS                                                 1\n",
       "THREATS AND RESPONSES: DIPLOMACY; \\rEXILE FOR HUSSEIN MAY BE AN OPTION, U.S. OFFICIALS HINT     1\n",
       "Stadium Building Boom Bypasses New York                                                         1\n",
       "Technology and Easy Credit Give Identity Thieves an Edge                                        1\n",
       "Good Things for Maxim Writer Who Waited                                                         1\n",
       "Digital Memories, Piling Up, May Prove Fleeting                                                 1\n",
       "Knicks Win, 82-76, and Tie Series                                                               1\n",
       " A Tale of Nuclear Proliferation: How Pakistani Built His Network                               1\n",
       "Lazio-Clinton Race Ends in Squabbling                                                           1\n",
       "THE 2000 CAMPAIGN: THE MAN IN THE NEWS;                                                         1\n",
       "Alaska, No Longer So Frigid, Starts to Crack, Burn and Sag                                      1\n",
       "Name: Title, Length: 9177, dtype: int64"
      ]
     },
     "execution_count": 66,
     "metadata": {},
     "output_type": "execute_result"
    }
   ],
   "source": [
    "nyt_test.value_counts()"
   ]
  },
  {
   "cell_type": "markdown",
   "metadata": {
    "collapsed": true
   },
   "source": [
    "Versão Com Stopwords"
   ]
  },
  {
   "cell_type": "code",
   "execution_count": 8,
   "metadata": {
    "collapsed": true
   },
   "outputs": [],
   "source": [
    "def text_process(mess):\n",
    "    \"\"\"\n",
    "    1. remove punc\n",
    "    2. remove stop words\n",
    "    3. return list of clean text words\n",
    "    \"\"\"\n",
    "\n",
    "    nopunc = [char for char in mess if char not in string.punctuation]\n",
    "    \n",
    "    nopunc = ''.join(nopunc)\n",
    "\n",
    "    return [word for word in nopunc.split() ]"
   ]
  },
  {
   "cell_type": "code",
   "execution_count": 9,
   "metadata": {},
   "outputs": [
    {
     "data": {
      "text/plain": [
       "['i',\n",
       " 'me',\n",
       " 'my',\n",
       " 'myself',\n",
       " 'we',\n",
       " 'our',\n",
       " 'ours',\n",
       " 'ourselves',\n",
       " 'you',\n",
       " 'your',\n",
       " 'yours',\n",
       " 'yourself',\n",
       " 'yourselves',\n",
       " 'he',\n",
       " 'him',\n",
       " 'his',\n",
       " 'himself',\n",
       " 'she',\n",
       " 'her',\n",
       " 'hers',\n",
       " 'herself',\n",
       " 'it',\n",
       " 'its',\n",
       " 'itself',\n",
       " 'they',\n",
       " 'them',\n",
       " 'their',\n",
       " 'theirs',\n",
       " 'themselves',\n",
       " 'what',\n",
       " 'which',\n",
       " 'who',\n",
       " 'whom',\n",
       " 'this',\n",
       " 'that',\n",
       " 'these',\n",
       " 'those',\n",
       " 'am',\n",
       " 'is',\n",
       " 'are',\n",
       " 'was',\n",
       " 'were',\n",
       " 'be',\n",
       " 'been',\n",
       " 'being',\n",
       " 'have',\n",
       " 'has',\n",
       " 'had',\n",
       " 'having',\n",
       " 'do',\n",
       " 'does',\n",
       " 'did',\n",
       " 'doing',\n",
       " 'a',\n",
       " 'an',\n",
       " 'the',\n",
       " 'and',\n",
       " 'but',\n",
       " 'if',\n",
       " 'or',\n",
       " 'because',\n",
       " 'as',\n",
       " 'until',\n",
       " 'while',\n",
       " 'of',\n",
       " 'at',\n",
       " 'by',\n",
       " 'for',\n",
       " 'with',\n",
       " 'about',\n",
       " 'against',\n",
       " 'between',\n",
       " 'into',\n",
       " 'through',\n",
       " 'during',\n",
       " 'before',\n",
       " 'after',\n",
       " 'above',\n",
       " 'below',\n",
       " 'to',\n",
       " 'from',\n",
       " 'up',\n",
       " 'down',\n",
       " 'in',\n",
       " 'out',\n",
       " 'on',\n",
       " 'off',\n",
       " 'over',\n",
       " 'under',\n",
       " 'again',\n",
       " 'further',\n",
       " 'then',\n",
       " 'once',\n",
       " 'here',\n",
       " 'there',\n",
       " 'when',\n",
       " 'where',\n",
       " 'why',\n",
       " 'how',\n",
       " 'all',\n",
       " 'any',\n",
       " 'both',\n",
       " 'each',\n",
       " 'few',\n",
       " 'more',\n",
       " 'most',\n",
       " 'other',\n",
       " 'some',\n",
       " 'such',\n",
       " 'no',\n",
       " 'nor',\n",
       " 'not',\n",
       " 'only',\n",
       " 'own',\n",
       " 'same',\n",
       " 'so',\n",
       " 'than',\n",
       " 'too',\n",
       " 'very',\n",
       " 's',\n",
       " 't',\n",
       " 'can',\n",
       " 'will',\n",
       " 'just',\n",
       " 'don',\n",
       " 'should',\n",
       " 'now',\n",
       " 'd',\n",
       " 'll',\n",
       " 'm',\n",
       " 'o',\n",
       " 're',\n",
       " 've',\n",
       " 'y',\n",
       " 'ain',\n",
       " 'aren',\n",
       " 'couldn',\n",
       " 'didn',\n",
       " 'doesn',\n",
       " 'hadn',\n",
       " 'hasn',\n",
       " 'haven',\n",
       " 'isn',\n",
       " 'ma',\n",
       " 'mightn',\n",
       " 'mustn',\n",
       " 'needn',\n",
       " 'shan',\n",
       " 'shouldn',\n",
       " 'wasn',\n",
       " 'weren',\n",
       " 'won',\n",
       " 'wouldn']"
      ]
     },
     "execution_count": 9,
     "metadata": {},
     "output_type": "execute_result"
    }
   ],
   "source": [
    "stopwords.words('english')"
   ]
  },
  {
   "cell_type": "code",
   "execution_count": 29,
   "metadata": {},
   "outputs": [
    {
     "data": {
      "text/plain": [
       "19    6354\n",
       "16    4479\n",
       "20    3958\n",
       "12    2088\n",
       "3     1799\n",
       "29    1273\n",
       "15    1249\n",
       "1      964\n",
       "2      914\n",
       "6      912\n",
       "28     769\n",
       "5      749\n",
       "17     719\n",
       "24     715\n",
       "10     594\n",
       "26     573\n",
       "14     410\n",
       "7      354\n",
       "31     329\n",
       "8      299\n",
       "13     273\n",
       "21     269\n",
       "30     268\n",
       "18     254\n",
       "99     172\n",
       "4      168\n",
       "27     129\n",
       "Name: Topic_2digit, dtype: int64"
      ]
     },
     "execution_count": 29,
     "metadata": {},
     "output_type": "execute_result"
    }
   ],
   "source": [
    "nyt_processed['Topic_2digit'].value_counts()"
   ]
  },
  {
   "cell_type": "code",
   "execution_count": null,
   "metadata": {
    "collapsed": true
   },
   "outputs": [],
   "source": []
  }
 ],
 "metadata": {
  "kernelspec": {
   "display_name": "Python 3",
   "language": "python",
   "name": "python3"
  },
  "language_info": {
   "codemirror_mode": {
    "name": "ipython",
    "version": 3
   },
   "file_extension": ".py",
   "mimetype": "text/x-python",
   "name": "python",
   "nbconvert_exporter": "python",
   "pygments_lexer": "ipython3",
   "version": "3.6.2"
  }
 },
 "nbformat": 4,
 "nbformat_minor": 2
}
